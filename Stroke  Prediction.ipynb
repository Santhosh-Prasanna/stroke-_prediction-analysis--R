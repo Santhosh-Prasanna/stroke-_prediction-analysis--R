{
 "cells": [
  {
   "cell_type": "markdown",
   "id": "70f18e74",
   "metadata": {},
   "source": [
    "# STOCK PREDICTTIONS : R"
   ]
  },
  {
   "cell_type": "markdown",
   "id": "b64d1b87",
   "metadata": {},
   "source": [
    "## About Dataset"
   ]
  },
  {
   "cell_type": "markdown",
   "id": "bce904e7",
   "metadata": {},
   "source": [
    "## Context"
   ]
  },
  {
   "cell_type": "markdown",
   "id": "2da7fb71",
   "metadata": {},
   "source": [
    "\n",
    "According to the World Health Organization (WHO) stroke is the 2nd leading cause of death globally, responsible for approximately 11% of total deaths.\n",
    "This dataset is used to predict whether a patient is likely to get stroke based on the input parameters like gender, age, various diseases, and smoking status. Each row in the data provides relavant information about the patient."
   ]
  },
  {
   "cell_type": "markdown",
   "id": "5627c51b",
   "metadata": {},
   "source": [
    "## Attribute Information"
   ]
  },
  {
   "cell_type": "markdown",
   "id": "86417cb3",
   "metadata": {},
   "source": [
    "1) id: unique identifier\n",
    "2) gender: \"Male\", \"Female\" or \"Other\"\n",
    "3) age: age of the patient\n",
    "4) hypertension: 0 if the patient doesn't have hypertension, 1 if the patient has hypertension\n",
    "5) heart_disease: 0 if the patient doesn't have any heart diseases, 1 if the patient has a heart disease\n",
    "6) ever_married: \"No\" or \"Yes\"\n",
    "7) work_type: \"children\", \"Govt_jov\", \"Never_worked\", \"Private\" or \"Self-employed\"\n",
    "8) Residence_type: \"Rural\" or \"Urban\"\n",
    "9) avg_glucose_level: average glucose level in blood\n",
    "10) bmi: body mass index\n",
    "11) smoking_status: \"formerly smoked\", \"never smoked\", \"smokes\" or \"Unknown\"*\n",
    "12) stroke: 1 if the patient had a stroke or 0 if not\n"
   ]
  },
  {
   "cell_type": "markdown",
   "id": "2ba29630",
   "metadata": {},
   "source": [
    "## 1. Define problems\n",
    "\n",
    "\n",
    "\n"
   ]
  },
  {
   "cell_type": "markdown",
   "id": "ddcfc036",
   "metadata": {},
   "source": [
    "## 2. Preparatory work\n",
    "\n"
   ]
  },
  {
   "cell_type": "markdown",
   "id": "0be5778c",
   "metadata": {},
   "source": [
    "## 3. Exploratory data analysis(EDA)\n",
    "\n"
   ]
  },
  {
   "cell_type": "markdown",
   "id": "252967dd",
   "metadata": {},
   "source": [
    "## 4. Data Manipulation\n"
   ]
  },
  {
   "cell_type": "markdown",
   "id": "874e8057",
   "metadata": {},
   "source": [
    "## 5. Modeling\n"
   ]
  },
  {
   "cell_type": "markdown",
   "id": "ab5be034",
   "metadata": {},
   "source": [
    "## Author : Santhosh"
   ]
  },
  {
   "cell_type": "markdown",
   "id": "1d25879c",
   "metadata": {},
   "source": [
    "## Dataset : Kaggle"
   ]
  },
  {
   "cell_type": "markdown",
   "id": "e21421c4",
   "metadata": {},
   "source": [
    "# 1. Define problems"
   ]
  },
  {
   "cell_type": "markdown",
   "id": "cd8bfc53",
   "metadata": {},
   "source": [
    "#### Which features are related to stroke\n",
    "#### Stroke prediction\n",
    "#### Comparision of Logistic Regression vs Neural Network"
   ]
  },
  {
   "cell_type": "markdown",
   "id": "57088288",
   "metadata": {},
   "source": [
    "# 2. Preparatory work"
   ]
  },
  {
   "cell_type": "markdown",
   "id": "e41477cd",
   "metadata": {},
   "source": [
    "#### Solutions for every problems"
   ]
  },
  {
   "cell_type": "markdown",
   "id": "af74fc26",
   "metadata": {},
   "source": [
    "# 3. Exploratory data analysis(EDA) : R\n"
   ]
  },
  {
   "cell_type": "markdown",
   "id": "3ebb428c",
   "metadata": {},
   "source": [
    "### Load Library and Dataset\n"
   ]
  },
  {
   "cell_type": "code",
   "execution_count": 1,
   "id": "3db809f9",
   "metadata": {},
   "outputs": [
    {
     "name": "stderr",
     "output_type": "stream",
     "text": [
      "\n",
      "Attaching package: 'dplyr'\n",
      "\n",
      "The following objects are masked from 'package:stats':\n",
      "\n",
      "    filter, lag\n",
      "\n",
      "The following objects are masked from 'package:base':\n",
      "\n",
      "    intersect, setdiff, setequal, union\n",
      "\n",
      "Registered S3 methods overwritten by 'ggplot2':\n",
      "  method         from \n",
      "  [.quosures     rlang\n",
      "  c.quosures     rlang\n",
      "  print.quosures rlang\n",
      "Registered S3 method overwritten by 'rvest':\n",
      "  method            from\n",
      "  read_xml.response xml2\n",
      "-- Attaching packages --------------------------------------- tidyverse 1.2.1 --\n",
      "v ggplot2 3.1.1     v readr   1.3.1\n",
      "v tibble  2.1.1     v purrr   0.3.2\n",
      "v tidyr   0.8.3     v stringr 1.4.0\n",
      "v ggplot2 3.1.1     v forcats 0.4.0\n",
      "-- Conflicts ------------------------------------------ tidyverse_conflicts() --\n",
      "x dplyr::filter() masks stats::filter()\n",
      "x dplyr::lag()    masks stats::lag()\n",
      "corrplot 0.84 loaded\n",
      "Loading required package: xts\n",
      "Loading required package: zoo\n",
      "\n",
      "Attaching package: 'zoo'\n",
      "\n",
      "The following objects are masked from 'package:base':\n",
      "\n",
      "    as.Date, as.Date.numeric\n",
      "\n",
      "Registered S3 method overwritten by 'xts':\n",
      "  method     from\n",
      "  as.zoo.xts zoo \n",
      "\n",
      "Attaching package: 'xts'\n",
      "\n",
      "The following objects are masked from 'package:dplyr':\n",
      "\n",
      "    first, last\n",
      "\n",
      "\n",
      "Attaching package: 'PerformanceAnalytics'\n",
      "\n",
      "The following object is masked from 'package:graphics':\n",
      "\n",
      "    legend\n",
      "\n",
      "Loading required package: Rcpp\n",
      "## \n",
      "## Amelia II: Multiple Imputation\n",
      "## (Version 1.7.5, built: 2018-05-07)\n",
      "## Copyright (C) 2005-2022 James Honaker, Gary King and Matthew Blackwell\n",
      "## Refer to http://gking.harvard.edu/amelia/ for more information\n",
      "## \n"
     ]
    }
   ],
   "source": [
    "# load library\n",
    "library(dplyr) \n",
    "library(tidyverse)\n",
    " \n",
    "library(corrplot) ## Correlation matrix plot library\n",
    "library(PerformanceAnalytics)\n",
    "library(corrplot)\n",
    "library(Amelia)##check missing value libaray"
   ]
  },
  {
   "cell_type": "code",
   "execution_count": 2,
   "id": "261ddc21",
   "metadata": {},
   "outputs": [
    {
     "data": {
      "text/html": [
       "<table>\n",
       "<thead><tr><th scope=col>id</th><th scope=col>gender</th><th scope=col>age</th><th scope=col>hypertension</th><th scope=col>heart_disease</th><th scope=col>ever_married</th><th scope=col>work_type</th><th scope=col>Residence_type</th><th scope=col>avg_glucose_level</th><th scope=col>bmi</th><th scope=col>smoking_status</th><th scope=col>stroke</th></tr></thead>\n",
       "<tbody>\n",
       "\t<tr><td> 9046          </td><td>Male           </td><td>67             </td><td>0              </td><td>1              </td><td>Yes            </td><td>Private        </td><td>Urban          </td><td>228.69         </td><td>36.6           </td><td>formerly smoked</td><td>1              </td></tr>\n",
       "\t<tr><td>51676          </td><td>Female         </td><td>61             </td><td>0              </td><td>0              </td><td>Yes            </td><td>Self-employed  </td><td>Rural          </td><td>202.21         </td><td>N/A            </td><td>never smoked   </td><td>1              </td></tr>\n",
       "\t<tr><td>31112          </td><td>Male           </td><td>80             </td><td>0              </td><td>1              </td><td>Yes            </td><td>Private        </td><td>Rural          </td><td>105.92         </td><td>32.5           </td><td>never smoked   </td><td>1              </td></tr>\n",
       "\t<tr><td>60182          </td><td>Female         </td><td>49             </td><td>0              </td><td>0              </td><td>Yes            </td><td>Private        </td><td>Urban          </td><td>171.23         </td><td>34.4           </td><td>smokes         </td><td>1              </td></tr>\n",
       "\t<tr><td> 1665          </td><td>Female         </td><td>79             </td><td>1              </td><td>0              </td><td>Yes            </td><td>Self-employed  </td><td>Rural          </td><td>174.12         </td><td>24             </td><td>never smoked   </td><td>1              </td></tr>\n",
       "\t<tr><td>56669          </td><td>Male           </td><td>81             </td><td>0              </td><td>0              </td><td>Yes            </td><td>Private        </td><td>Urban          </td><td>186.21         </td><td>29             </td><td>formerly smoked</td><td>1              </td></tr>\n",
       "\t<tr><td>53882          </td><td>Male           </td><td>74             </td><td>1              </td><td>1              </td><td>Yes            </td><td>Private        </td><td>Rural          </td><td> 70.09         </td><td>27.4           </td><td>never smoked   </td><td>1              </td></tr>\n",
       "\t<tr><td>10434          </td><td>Female         </td><td>69             </td><td>0              </td><td>0              </td><td>No             </td><td>Private        </td><td>Urban          </td><td> 94.39         </td><td>22.8           </td><td>never smoked   </td><td>1              </td></tr>\n",
       "\t<tr><td>27419          </td><td>Female         </td><td>59             </td><td>0              </td><td>0              </td><td>Yes            </td><td>Private        </td><td>Rural          </td><td> 76.15         </td><td>N/A            </td><td>Unknown        </td><td>1              </td></tr>\n",
       "\t<tr><td>60491          </td><td>Female         </td><td>78             </td><td>0              </td><td>0              </td><td>Yes            </td><td>Private        </td><td>Urban          </td><td> 58.57         </td><td>24.2           </td><td>Unknown        </td><td>1              </td></tr>\n",
       "\t<tr><td>12109          </td><td>Female         </td><td>81             </td><td>1              </td><td>0              </td><td>Yes            </td><td>Private        </td><td>Rural          </td><td> 80.43         </td><td>29.7           </td><td>never smoked   </td><td>1              </td></tr>\n",
       "\t<tr><td>12095          </td><td>Female         </td><td>61             </td><td>0              </td><td>1              </td><td>Yes            </td><td>Govt_job       </td><td>Rural          </td><td>120.46         </td><td>36.8           </td><td>smokes         </td><td>1              </td></tr>\n",
       "\t<tr><td>12175          </td><td>Female         </td><td>54             </td><td>0              </td><td>0              </td><td>Yes            </td><td>Private        </td><td>Urban          </td><td>104.51         </td><td>27.3           </td><td>smokes         </td><td>1              </td></tr>\n",
       "\t<tr><td> 8213          </td><td>Male           </td><td>78             </td><td>0              </td><td>1              </td><td>Yes            </td><td>Private        </td><td>Urban          </td><td>219.84         </td><td>N/A            </td><td>Unknown        </td><td>1              </td></tr>\n",
       "\t<tr><td> 5317          </td><td>Female         </td><td>79             </td><td>0              </td><td>1              </td><td>Yes            </td><td>Private        </td><td>Urban          </td><td>214.09         </td><td>28.2           </td><td>never smoked   </td><td>1              </td></tr>\n",
       "\t<tr><td>58202          </td><td>Female         </td><td>50             </td><td>1              </td><td>0              </td><td>Yes            </td><td>Self-employed  </td><td>Rural          </td><td>167.41         </td><td>30.9           </td><td>never smoked   </td><td>1              </td></tr>\n",
       "\t<tr><td>56112          </td><td>Male           </td><td>64             </td><td>0              </td><td>1              </td><td>Yes            </td><td>Private        </td><td>Urban          </td><td>191.61         </td><td>37.5           </td><td>smokes         </td><td>1              </td></tr>\n",
       "\t<tr><td>34120          </td><td>Male           </td><td>75             </td><td>1              </td><td>0              </td><td>Yes            </td><td>Private        </td><td>Urban          </td><td>221.29         </td><td>25.8           </td><td>smokes         </td><td>1              </td></tr>\n",
       "\t<tr><td>27458          </td><td>Female         </td><td>60             </td><td>0              </td><td>0              </td><td>No             </td><td>Private        </td><td>Urban          </td><td> 89.22         </td><td>37.8           </td><td>never smoked   </td><td>1              </td></tr>\n",
       "\t<tr><td>25226          </td><td>Male           </td><td>57             </td><td>0              </td><td>1              </td><td>No             </td><td>Govt_job       </td><td>Urban          </td><td>217.08         </td><td>N/A            </td><td>Unknown        </td><td>1              </td></tr>\n",
       "\t<tr><td>70630          </td><td>Female         </td><td>71             </td><td>0              </td><td>0              </td><td>Yes            </td><td>Govt_job       </td><td>Rural          </td><td>193.94         </td><td>22.4           </td><td>smokes         </td><td>1              </td></tr>\n",
       "\t<tr><td>13861          </td><td>Female         </td><td>52             </td><td>1              </td><td>0              </td><td>Yes            </td><td>Self-employed  </td><td>Urban          </td><td>233.29         </td><td>48.9           </td><td>never smoked   </td><td>1              </td></tr>\n",
       "\t<tr><td>68794          </td><td>Female         </td><td>79             </td><td>0              </td><td>0              </td><td>Yes            </td><td>Self-employed  </td><td>Urban          </td><td>228.70         </td><td>26.6           </td><td>never smoked   </td><td>1              </td></tr>\n",
       "\t<tr><td>64778          </td><td>Male           </td><td>82             </td><td>0              </td><td>1              </td><td>Yes            </td><td>Private        </td><td>Rural          </td><td>208.30         </td><td>32.5           </td><td>Unknown        </td><td>1              </td></tr>\n",
       "\t<tr><td> 4219          </td><td>Male           </td><td>71             </td><td>0              </td><td>0              </td><td>Yes            </td><td>Private        </td><td>Urban          </td><td>102.87         </td><td>27.2           </td><td>formerly smoked</td><td>1              </td></tr>\n",
       "\t<tr><td>70822          </td><td>Male           </td><td>80             </td><td>0              </td><td>0              </td><td>Yes            </td><td>Self-employed  </td><td>Rural          </td><td>104.12         </td><td>23.5           </td><td>never smoked   </td><td>1              </td></tr>\n",
       "\t<tr><td>38047          </td><td>Female         </td><td>65             </td><td>0              </td><td>0              </td><td>Yes            </td><td>Private        </td><td>Rural          </td><td>100.98         </td><td>28.2           </td><td>formerly smoked</td><td>1              </td></tr>\n",
       "\t<tr><td>61843          </td><td>Male           </td><td>58             </td><td>0              </td><td>0              </td><td>Yes            </td><td>Private        </td><td>Rural          </td><td>189.84         </td><td>N/A            </td><td>Unknown        </td><td>1              </td></tr>\n",
       "\t<tr><td>54827          </td><td>Male           </td><td>69             </td><td>0              </td><td>1              </td><td>Yes            </td><td>Self-employed  </td><td>Urban          </td><td>195.23         </td><td>28.3           </td><td>smokes         </td><td>1              </td></tr>\n",
       "\t<tr><td>69160          </td><td>Male           </td><td>59             </td><td>0              </td><td>0              </td><td>Yes            </td><td>Private        </td><td>Rural          </td><td>211.78         </td><td>N/A            </td><td>formerly smoked</td><td>1              </td></tr>\n",
       "\t<tr><td>...</td><td>...</td><td>...</td><td>...</td><td>...</td><td>...</td><td>...</td><td>...</td><td>...</td><td>...</td><td>...</td><td>...</td></tr>\n",
       "\t<tr><td>22691          </td><td>Female         </td><td>29.00          </td><td>0              </td><td>0              </td><td>Yes            </td><td>Self-employed  </td><td>Urban          </td><td> 90.52         </td><td>28             </td><td>never smoked   </td><td>0              </td></tr>\n",
       "\t<tr><td>37680          </td><td>Male           </td><td>55.00          </td><td>0              </td><td>0              </td><td>Yes            </td><td>Govt_job       </td><td>Rural          </td><td>108.35         </td><td>40.8           </td><td>formerly smoked</td><td>0              </td></tr>\n",
       "\t<tr><td>24552          </td><td>Female         </td><td>44.00          </td><td>0              </td><td>0              </td><td>Yes            </td><td>Private        </td><td>Rural          </td><td> 72.03         </td><td>37.5           </td><td>smokes         </td><td>0              </td></tr>\n",
       "\t<tr><td>72914          </td><td>Female         </td><td>19.00          </td><td>0              </td><td>0              </td><td>No             </td><td>Private        </td><td>Urban          </td><td> 90.57         </td><td>24.2           </td><td>Unknown        </td><td>0              </td></tr>\n",
       "\t<tr><td>29540          </td><td>Male           </td><td>67.00          </td><td>0              </td><td>0              </td><td>Yes            </td><td>Private        </td><td>Rural          </td><td> 97.04         </td><td>26.9           </td><td>smokes         </td><td>0              </td></tr>\n",
       "\t<tr><td>53525          </td><td>Female         </td><td>72.00          </td><td>0              </td><td>0              </td><td>Yes            </td><td>Private        </td><td>Urban          </td><td> 83.89         </td><td>33.1           </td><td>formerly smoked</td><td>0              </td></tr>\n",
       "\t<tr><td>65411          </td><td>Female         </td><td>51.00          </td><td>0              </td><td>0              </td><td>Yes            </td><td>Private        </td><td>Urban          </td><td>152.56         </td><td>21.8           </td><td>Unknown        </td><td>0              </td></tr>\n",
       "\t<tr><td>26214          </td><td>Female         </td><td>63.00          </td><td>0              </td><td>0              </td><td>Yes            </td><td>Self-employed  </td><td>Rural          </td><td> 75.93         </td><td>34.7           </td><td>formerly smoked</td><td>0              </td></tr>\n",
       "\t<tr><td>22190          </td><td>Female         </td><td>64.00          </td><td>1              </td><td>0              </td><td>Yes            </td><td>Self-employed  </td><td>Urban          </td><td> 76.89         </td><td>30.2           </td><td>Unknown        </td><td>0              </td></tr>\n",
       "\t<tr><td>56714          </td><td>Female         </td><td> 0.72          </td><td>0              </td><td>0              </td><td>No             </td><td>children       </td><td>Rural          </td><td> 62.13         </td><td>16.8           </td><td>Unknown        </td><td>0              </td></tr>\n",
       "\t<tr><td> 4211          </td><td>Male           </td><td>26.00          </td><td>0              </td><td>0              </td><td>No             </td><td>Govt_job       </td><td>Rural          </td><td>100.85         </td><td>21             </td><td>smokes         </td><td>0              </td></tr>\n",
       "\t<tr><td> 6369          </td><td>Male           </td><td>59.00          </td><td>1              </td><td>0              </td><td>Yes            </td><td>Private        </td><td>Rural          </td><td> 95.05         </td><td>30.9           </td><td>never smoked   </td><td>0              </td></tr>\n",
       "\t<tr><td>56799          </td><td>Male           </td><td>76.00          </td><td>0              </td><td>0              </td><td>Yes            </td><td>Govt_job       </td><td>Urban          </td><td> 82.35         </td><td>38.9           </td><td>never smoked   </td><td>0              </td></tr>\n",
       "\t<tr><td>32235          </td><td>Female         </td><td>45.00          </td><td>1              </td><td>0              </td><td>Yes            </td><td>Govt_job       </td><td>Rural          </td><td> 95.02         </td><td>N/A            </td><td>smokes         </td><td>0              </td></tr>\n",
       "\t<tr><td>28048          </td><td>Male           </td><td>13.00          </td><td>0              </td><td>0              </td><td>No             </td><td>children       </td><td>Urban          </td><td> 82.38         </td><td>24.3           </td><td>Unknown        </td><td>0              </td></tr>\n",
       "\t<tr><td>68598          </td><td>Male           </td><td> 1.08          </td><td>0              </td><td>0              </td><td>No             </td><td>children       </td><td>Rural          </td><td> 79.15         </td><td>17.4           </td><td>Unknown        </td><td>0              </td></tr>\n",
       "\t<tr><td>41512          </td><td>Male           </td><td>57.00          </td><td>0              </td><td>0              </td><td>Yes            </td><td>Govt_job       </td><td>Rural          </td><td> 76.62         </td><td>28.2           </td><td>never smoked   </td><td>0              </td></tr>\n",
       "\t<tr><td>64520          </td><td>Male           </td><td>68.00          </td><td>0              </td><td>0              </td><td>Yes            </td><td>Self-employed  </td><td>Urban          </td><td> 91.68         </td><td>40.8           </td><td>Unknown        </td><td>0              </td></tr>\n",
       "\t<tr><td>  579          </td><td>Male           </td><td> 9.00          </td><td>0              </td><td>0              </td><td>No             </td><td>children       </td><td>Urban          </td><td> 71.88         </td><td>17.5           </td><td>Unknown        </td><td>0              </td></tr>\n",
       "\t<tr><td> 7293          </td><td>Male           </td><td>40.00          </td><td>0              </td><td>0              </td><td>Yes            </td><td>Private        </td><td>Rural          </td><td> 83.94         </td><td>N/A            </td><td>smokes         </td><td>0              </td></tr>\n",
       "\t<tr><td>68398          </td><td>Male           </td><td>82.00          </td><td>1              </td><td>0              </td><td>Yes            </td><td>Self-employed  </td><td>Rural          </td><td> 71.97         </td><td>28.3           </td><td>never smoked   </td><td>0              </td></tr>\n",
       "\t<tr><td>36901          </td><td>Female         </td><td>45.00          </td><td>0              </td><td>0              </td><td>Yes            </td><td>Private        </td><td>Urban          </td><td> 97.95         </td><td>24.5           </td><td>Unknown        </td><td>0              </td></tr>\n",
       "\t<tr><td>45010          </td><td>Female         </td><td>57.00          </td><td>0              </td><td>0              </td><td>Yes            </td><td>Private        </td><td>Rural          </td><td> 77.93         </td><td>21.7           </td><td>never smoked   </td><td>0              </td></tr>\n",
       "\t<tr><td>22127          </td><td>Female         </td><td>18.00          </td><td>0              </td><td>0              </td><td>No             </td><td>Private        </td><td>Urban          </td><td> 82.85         </td><td>46.9           </td><td>Unknown        </td><td>0              </td></tr>\n",
       "\t<tr><td>14180          </td><td>Female         </td><td>13.00          </td><td>0              </td><td>0              </td><td>No             </td><td>children       </td><td>Rural          </td><td>103.08         </td><td>18.6           </td><td>Unknown        </td><td>0              </td></tr>\n",
       "\t<tr><td>18234          </td><td>Female         </td><td>80.00          </td><td>1              </td><td>0              </td><td>Yes            </td><td>Private        </td><td>Urban          </td><td> 83.75         </td><td>N/A            </td><td>never smoked   </td><td>0              </td></tr>\n",
       "\t<tr><td>44873          </td><td>Female         </td><td>81.00          </td><td>0              </td><td>0              </td><td>Yes            </td><td>Self-employed  </td><td>Urban          </td><td>125.20         </td><td>40             </td><td>never smoked   </td><td>0              </td></tr>\n",
       "\t<tr><td>19723          </td><td>Female         </td><td>35.00          </td><td>0              </td><td>0              </td><td>Yes            </td><td>Self-employed  </td><td>Rural          </td><td> 82.99         </td><td>30.6           </td><td>never smoked   </td><td>0              </td></tr>\n",
       "\t<tr><td>37544          </td><td>Male           </td><td>51.00          </td><td>0              </td><td>0              </td><td>Yes            </td><td>Private        </td><td>Rural          </td><td>166.29         </td><td>25.6           </td><td>formerly smoked</td><td>0              </td></tr>\n",
       "\t<tr><td>44679          </td><td>Female         </td><td>44.00          </td><td>0              </td><td>0              </td><td>Yes            </td><td>Govt_job       </td><td>Urban          </td><td> 85.28         </td><td>26.2           </td><td>Unknown        </td><td>0              </td></tr>\n",
       "</tbody>\n",
       "</table>\n"
      ],
      "text/latex": [
       "\\begin{tabular}{r|llllllllllll}\n",
       " id & gender & age & hypertension & heart\\_disease & ever\\_married & work\\_type & Residence\\_type & avg\\_glucose\\_level & bmi & smoking\\_status & stroke\\\\\n",
       "\\hline\n",
       "\t  9046           & Male            & 67              & 0               & 1               & Yes             & Private         & Urban           & 228.69          & 36.6            & formerly smoked & 1              \\\\\n",
       "\t 51676           & Female          & 61              & 0               & 0               & Yes             & Self-employed   & Rural           & 202.21          & N/A             & never smoked    & 1              \\\\\n",
       "\t 31112           & Male            & 80              & 0               & 1               & Yes             & Private         & Rural           & 105.92          & 32.5            & never smoked    & 1              \\\\\n",
       "\t 60182           & Female          & 49              & 0               & 0               & Yes             & Private         & Urban           & 171.23          & 34.4            & smokes          & 1              \\\\\n",
       "\t  1665           & Female          & 79              & 1               & 0               & Yes             & Self-employed   & Rural           & 174.12          & 24              & never smoked    & 1              \\\\\n",
       "\t 56669           & Male            & 81              & 0               & 0               & Yes             & Private         & Urban           & 186.21          & 29              & formerly smoked & 1              \\\\\n",
       "\t 53882           & Male            & 74              & 1               & 1               & Yes             & Private         & Rural           &  70.09          & 27.4            & never smoked    & 1              \\\\\n",
       "\t 10434           & Female          & 69              & 0               & 0               & No              & Private         & Urban           &  94.39          & 22.8            & never smoked    & 1              \\\\\n",
       "\t 27419           & Female          & 59              & 0               & 0               & Yes             & Private         & Rural           &  76.15          & N/A             & Unknown         & 1              \\\\\n",
       "\t 60491           & Female          & 78              & 0               & 0               & Yes             & Private         & Urban           &  58.57          & 24.2            & Unknown         & 1              \\\\\n",
       "\t 12109           & Female          & 81              & 1               & 0               & Yes             & Private         & Rural           &  80.43          & 29.7            & never smoked    & 1              \\\\\n",
       "\t 12095           & Female          & 61              & 0               & 1               & Yes             & Govt\\_job      & Rural           & 120.46          & 36.8            & smokes          & 1              \\\\\n",
       "\t 12175           & Female          & 54              & 0               & 0               & Yes             & Private         & Urban           & 104.51          & 27.3            & smokes          & 1              \\\\\n",
       "\t  8213           & Male            & 78              & 0               & 1               & Yes             & Private         & Urban           & 219.84          & N/A             & Unknown         & 1              \\\\\n",
       "\t  5317           & Female          & 79              & 0               & 1               & Yes             & Private         & Urban           & 214.09          & 28.2            & never smoked    & 1              \\\\\n",
       "\t 58202           & Female          & 50              & 1               & 0               & Yes             & Self-employed   & Rural           & 167.41          & 30.9            & never smoked    & 1              \\\\\n",
       "\t 56112           & Male            & 64              & 0               & 1               & Yes             & Private         & Urban           & 191.61          & 37.5            & smokes          & 1              \\\\\n",
       "\t 34120           & Male            & 75              & 1               & 0               & Yes             & Private         & Urban           & 221.29          & 25.8            & smokes          & 1              \\\\\n",
       "\t 27458           & Female          & 60              & 0               & 0               & No              & Private         & Urban           &  89.22          & 37.8            & never smoked    & 1              \\\\\n",
       "\t 25226           & Male            & 57              & 0               & 1               & No              & Govt\\_job      & Urban           & 217.08          & N/A             & Unknown         & 1              \\\\\n",
       "\t 70630           & Female          & 71              & 0               & 0               & Yes             & Govt\\_job      & Rural           & 193.94          & 22.4            & smokes          & 1              \\\\\n",
       "\t 13861           & Female          & 52              & 1               & 0               & Yes             & Self-employed   & Urban           & 233.29          & 48.9            & never smoked    & 1              \\\\\n",
       "\t 68794           & Female          & 79              & 0               & 0               & Yes             & Self-employed   & Urban           & 228.70          & 26.6            & never smoked    & 1              \\\\\n",
       "\t 64778           & Male            & 82              & 0               & 1               & Yes             & Private         & Rural           & 208.30          & 32.5            & Unknown         & 1              \\\\\n",
       "\t  4219           & Male            & 71              & 0               & 0               & Yes             & Private         & Urban           & 102.87          & 27.2            & formerly smoked & 1              \\\\\n",
       "\t 70822           & Male            & 80              & 0               & 0               & Yes             & Self-employed   & Rural           & 104.12          & 23.5            & never smoked    & 1              \\\\\n",
       "\t 38047           & Female          & 65              & 0               & 0               & Yes             & Private         & Rural           & 100.98          & 28.2            & formerly smoked & 1              \\\\\n",
       "\t 61843           & Male            & 58              & 0               & 0               & Yes             & Private         & Rural           & 189.84          & N/A             & Unknown         & 1              \\\\\n",
       "\t 54827           & Male            & 69              & 0               & 1               & Yes             & Self-employed   & Urban           & 195.23          & 28.3            & smokes          & 1              \\\\\n",
       "\t 69160           & Male            & 59              & 0               & 0               & Yes             & Private         & Rural           & 211.78          & N/A             & formerly smoked & 1              \\\\\n",
       "\t ... & ... & ... & ... & ... & ... & ... & ... & ... & ... & ... & ...\\\\\n",
       "\t 22691           & Female          & 29.00           & 0               & 0               & Yes             & Self-employed   & Urban           &  90.52          & 28              & never smoked    & 0              \\\\\n",
       "\t 37680           & Male            & 55.00           & 0               & 0               & Yes             & Govt\\_job      & Rural           & 108.35          & 40.8            & formerly smoked & 0              \\\\\n",
       "\t 24552           & Female          & 44.00           & 0               & 0               & Yes             & Private         & Rural           &  72.03          & 37.5            & smokes          & 0              \\\\\n",
       "\t 72914           & Female          & 19.00           & 0               & 0               & No              & Private         & Urban           &  90.57          & 24.2            & Unknown         & 0              \\\\\n",
       "\t 29540           & Male            & 67.00           & 0               & 0               & Yes             & Private         & Rural           &  97.04          & 26.9            & smokes          & 0              \\\\\n",
       "\t 53525           & Female          & 72.00           & 0               & 0               & Yes             & Private         & Urban           &  83.89          & 33.1            & formerly smoked & 0              \\\\\n",
       "\t 65411           & Female          & 51.00           & 0               & 0               & Yes             & Private         & Urban           & 152.56          & 21.8            & Unknown         & 0              \\\\\n",
       "\t 26214           & Female          & 63.00           & 0               & 0               & Yes             & Self-employed   & Rural           &  75.93          & 34.7            & formerly smoked & 0              \\\\\n",
       "\t 22190           & Female          & 64.00           & 1               & 0               & Yes             & Self-employed   & Urban           &  76.89          & 30.2            & Unknown         & 0              \\\\\n",
       "\t 56714           & Female          &  0.72           & 0               & 0               & No              & children        & Rural           &  62.13          & 16.8            & Unknown         & 0              \\\\\n",
       "\t  4211           & Male            & 26.00           & 0               & 0               & No              & Govt\\_job      & Rural           & 100.85          & 21              & smokes          & 0              \\\\\n",
       "\t  6369           & Male            & 59.00           & 1               & 0               & Yes             & Private         & Rural           &  95.05          & 30.9            & never smoked    & 0              \\\\\n",
       "\t 56799           & Male            & 76.00           & 0               & 0               & Yes             & Govt\\_job      & Urban           &  82.35          & 38.9            & never smoked    & 0              \\\\\n",
       "\t 32235           & Female          & 45.00           & 1               & 0               & Yes             & Govt\\_job      & Rural           &  95.02          & N/A             & smokes          & 0              \\\\\n",
       "\t 28048           & Male            & 13.00           & 0               & 0               & No              & children        & Urban           &  82.38          & 24.3            & Unknown         & 0              \\\\\n",
       "\t 68598           & Male            &  1.08           & 0               & 0               & No              & children        & Rural           &  79.15          & 17.4            & Unknown         & 0              \\\\\n",
       "\t 41512           & Male            & 57.00           & 0               & 0               & Yes             & Govt\\_job      & Rural           &  76.62          & 28.2            & never smoked    & 0              \\\\\n",
       "\t 64520           & Male            & 68.00           & 0               & 0               & Yes             & Self-employed   & Urban           &  91.68          & 40.8            & Unknown         & 0              \\\\\n",
       "\t   579           & Male            &  9.00           & 0               & 0               & No              & children        & Urban           &  71.88          & 17.5            & Unknown         & 0              \\\\\n",
       "\t  7293           & Male            & 40.00           & 0               & 0               & Yes             & Private         & Rural           &  83.94          & N/A             & smokes          & 0              \\\\\n",
       "\t 68398           & Male            & 82.00           & 1               & 0               & Yes             & Self-employed   & Rural           &  71.97          & 28.3            & never smoked    & 0              \\\\\n",
       "\t 36901           & Female          & 45.00           & 0               & 0               & Yes             & Private         & Urban           &  97.95          & 24.5            & Unknown         & 0              \\\\\n",
       "\t 45010           & Female          & 57.00           & 0               & 0               & Yes             & Private         & Rural           &  77.93          & 21.7            & never smoked    & 0              \\\\\n",
       "\t 22127           & Female          & 18.00           & 0               & 0               & No              & Private         & Urban           &  82.85          & 46.9            & Unknown         & 0              \\\\\n",
       "\t 14180           & Female          & 13.00           & 0               & 0               & No              & children        & Rural           & 103.08          & 18.6            & Unknown         & 0              \\\\\n",
       "\t 18234           & Female          & 80.00           & 1               & 0               & Yes             & Private         & Urban           &  83.75          & N/A             & never smoked    & 0              \\\\\n",
       "\t 44873           & Female          & 81.00           & 0               & 0               & Yes             & Self-employed   & Urban           & 125.20          & 40              & never smoked    & 0              \\\\\n",
       "\t 19723           & Female          & 35.00           & 0               & 0               & Yes             & Self-employed   & Rural           &  82.99          & 30.6            & never smoked    & 0              \\\\\n",
       "\t 37544           & Male            & 51.00           & 0               & 0               & Yes             & Private         & Rural           & 166.29          & 25.6            & formerly smoked & 0              \\\\\n",
       "\t 44679           & Female          & 44.00           & 0               & 0               & Yes             & Govt\\_job      & Urban           &  85.28          & 26.2            & Unknown         & 0              \\\\\n",
       "\\end{tabular}\n"
      ],
      "text/markdown": [
       "\n",
       "| id | gender | age | hypertension | heart_disease | ever_married | work_type | Residence_type | avg_glucose_level | bmi | smoking_status | stroke |\n",
       "|---|---|---|---|---|---|---|---|---|---|---|---|\n",
       "|  9046           | Male            | 67              | 0               | 1               | Yes             | Private         | Urban           | 228.69          | 36.6            | formerly smoked | 1               |\n",
       "| 51676           | Female          | 61              | 0               | 0               | Yes             | Self-employed   | Rural           | 202.21          | N/A             | never smoked    | 1               |\n",
       "| 31112           | Male            | 80              | 0               | 1               | Yes             | Private         | Rural           | 105.92          | 32.5            | never smoked    | 1               |\n",
       "| 60182           | Female          | 49              | 0               | 0               | Yes             | Private         | Urban           | 171.23          | 34.4            | smokes          | 1               |\n",
       "|  1665           | Female          | 79              | 1               | 0               | Yes             | Self-employed   | Rural           | 174.12          | 24              | never smoked    | 1               |\n",
       "| 56669           | Male            | 81              | 0               | 0               | Yes             | Private         | Urban           | 186.21          | 29              | formerly smoked | 1               |\n",
       "| 53882           | Male            | 74              | 1               | 1               | Yes             | Private         | Rural           |  70.09          | 27.4            | never smoked    | 1               |\n",
       "| 10434           | Female          | 69              | 0               | 0               | No              | Private         | Urban           |  94.39          | 22.8            | never smoked    | 1               |\n",
       "| 27419           | Female          | 59              | 0               | 0               | Yes             | Private         | Rural           |  76.15          | N/A             | Unknown         | 1               |\n",
       "| 60491           | Female          | 78              | 0               | 0               | Yes             | Private         | Urban           |  58.57          | 24.2            | Unknown         | 1               |\n",
       "| 12109           | Female          | 81              | 1               | 0               | Yes             | Private         | Rural           |  80.43          | 29.7            | never smoked    | 1               |\n",
       "| 12095           | Female          | 61              | 0               | 1               | Yes             | Govt_job        | Rural           | 120.46          | 36.8            | smokes          | 1               |\n",
       "| 12175           | Female          | 54              | 0               | 0               | Yes             | Private         | Urban           | 104.51          | 27.3            | smokes          | 1               |\n",
       "|  8213           | Male            | 78              | 0               | 1               | Yes             | Private         | Urban           | 219.84          | N/A             | Unknown         | 1               |\n",
       "|  5317           | Female          | 79              | 0               | 1               | Yes             | Private         | Urban           | 214.09          | 28.2            | never smoked    | 1               |\n",
       "| 58202           | Female          | 50              | 1               | 0               | Yes             | Self-employed   | Rural           | 167.41          | 30.9            | never smoked    | 1               |\n",
       "| 56112           | Male            | 64              | 0               | 1               | Yes             | Private         | Urban           | 191.61          | 37.5            | smokes          | 1               |\n",
       "| 34120           | Male            | 75              | 1               | 0               | Yes             | Private         | Urban           | 221.29          | 25.8            | smokes          | 1               |\n",
       "| 27458           | Female          | 60              | 0               | 0               | No              | Private         | Urban           |  89.22          | 37.8            | never smoked    | 1               |\n",
       "| 25226           | Male            | 57              | 0               | 1               | No              | Govt_job        | Urban           | 217.08          | N/A             | Unknown         | 1               |\n",
       "| 70630           | Female          | 71              | 0               | 0               | Yes             | Govt_job        | Rural           | 193.94          | 22.4            | smokes          | 1               |\n",
       "| 13861           | Female          | 52              | 1               | 0               | Yes             | Self-employed   | Urban           | 233.29          | 48.9            | never smoked    | 1               |\n",
       "| 68794           | Female          | 79              | 0               | 0               | Yes             | Self-employed   | Urban           | 228.70          | 26.6            | never smoked    | 1               |\n",
       "| 64778           | Male            | 82              | 0               | 1               | Yes             | Private         | Rural           | 208.30          | 32.5            | Unknown         | 1               |\n",
       "|  4219           | Male            | 71              | 0               | 0               | Yes             | Private         | Urban           | 102.87          | 27.2            | formerly smoked | 1               |\n",
       "| 70822           | Male            | 80              | 0               | 0               | Yes             | Self-employed   | Rural           | 104.12          | 23.5            | never smoked    | 1               |\n",
       "| 38047           | Female          | 65              | 0               | 0               | Yes             | Private         | Rural           | 100.98          | 28.2            | formerly smoked | 1               |\n",
       "| 61843           | Male            | 58              | 0               | 0               | Yes             | Private         | Rural           | 189.84          | N/A             | Unknown         | 1               |\n",
       "| 54827           | Male            | 69              | 0               | 1               | Yes             | Self-employed   | Urban           | 195.23          | 28.3            | smokes          | 1               |\n",
       "| 69160           | Male            | 59              | 0               | 0               | Yes             | Private         | Rural           | 211.78          | N/A             | formerly smoked | 1               |\n",
       "| ... | ... | ... | ... | ... | ... | ... | ... | ... | ... | ... | ... |\n",
       "| 22691           | Female          | 29.00           | 0               | 0               | Yes             | Self-employed   | Urban           |  90.52          | 28              | never smoked    | 0               |\n",
       "| 37680           | Male            | 55.00           | 0               | 0               | Yes             | Govt_job        | Rural           | 108.35          | 40.8            | formerly smoked | 0               |\n",
       "| 24552           | Female          | 44.00           | 0               | 0               | Yes             | Private         | Rural           |  72.03          | 37.5            | smokes          | 0               |\n",
       "| 72914           | Female          | 19.00           | 0               | 0               | No              | Private         | Urban           |  90.57          | 24.2            | Unknown         | 0               |\n",
       "| 29540           | Male            | 67.00           | 0               | 0               | Yes             | Private         | Rural           |  97.04          | 26.9            | smokes          | 0               |\n",
       "| 53525           | Female          | 72.00           | 0               | 0               | Yes             | Private         | Urban           |  83.89          | 33.1            | formerly smoked | 0               |\n",
       "| 65411           | Female          | 51.00           | 0               | 0               | Yes             | Private         | Urban           | 152.56          | 21.8            | Unknown         | 0               |\n",
       "| 26214           | Female          | 63.00           | 0               | 0               | Yes             | Self-employed   | Rural           |  75.93          | 34.7            | formerly smoked | 0               |\n",
       "| 22190           | Female          | 64.00           | 1               | 0               | Yes             | Self-employed   | Urban           |  76.89          | 30.2            | Unknown         | 0               |\n",
       "| 56714           | Female          |  0.72           | 0               | 0               | No              | children        | Rural           |  62.13          | 16.8            | Unknown         | 0               |\n",
       "|  4211           | Male            | 26.00           | 0               | 0               | No              | Govt_job        | Rural           | 100.85          | 21              | smokes          | 0               |\n",
       "|  6369           | Male            | 59.00           | 1               | 0               | Yes             | Private         | Rural           |  95.05          | 30.9            | never smoked    | 0               |\n",
       "| 56799           | Male            | 76.00           | 0               | 0               | Yes             | Govt_job        | Urban           |  82.35          | 38.9            | never smoked    | 0               |\n",
       "| 32235           | Female          | 45.00           | 1               | 0               | Yes             | Govt_job        | Rural           |  95.02          | N/A             | smokes          | 0               |\n",
       "| 28048           | Male            | 13.00           | 0               | 0               | No              | children        | Urban           |  82.38          | 24.3            | Unknown         | 0               |\n",
       "| 68598           | Male            |  1.08           | 0               | 0               | No              | children        | Rural           |  79.15          | 17.4            | Unknown         | 0               |\n",
       "| 41512           | Male            | 57.00           | 0               | 0               | Yes             | Govt_job        | Rural           |  76.62          | 28.2            | never smoked    | 0               |\n",
       "| 64520           | Male            | 68.00           | 0               | 0               | Yes             | Self-employed   | Urban           |  91.68          | 40.8            | Unknown         | 0               |\n",
       "|   579           | Male            |  9.00           | 0               | 0               | No              | children        | Urban           |  71.88          | 17.5            | Unknown         | 0               |\n",
       "|  7293           | Male            | 40.00           | 0               | 0               | Yes             | Private         | Rural           |  83.94          | N/A             | smokes          | 0               |\n",
       "| 68398           | Male            | 82.00           | 1               | 0               | Yes             | Self-employed   | Rural           |  71.97          | 28.3            | never smoked    | 0               |\n",
       "| 36901           | Female          | 45.00           | 0               | 0               | Yes             | Private         | Urban           |  97.95          | 24.5            | Unknown         | 0               |\n",
       "| 45010           | Female          | 57.00           | 0               | 0               | Yes             | Private         | Rural           |  77.93          | 21.7            | never smoked    | 0               |\n",
       "| 22127           | Female          | 18.00           | 0               | 0               | No              | Private         | Urban           |  82.85          | 46.9            | Unknown         | 0               |\n",
       "| 14180           | Female          | 13.00           | 0               | 0               | No              | children        | Rural           | 103.08          | 18.6            | Unknown         | 0               |\n",
       "| 18234           | Female          | 80.00           | 1               | 0               | Yes             | Private         | Urban           |  83.75          | N/A             | never smoked    | 0               |\n",
       "| 44873           | Female          | 81.00           | 0               | 0               | Yes             | Self-employed   | Urban           | 125.20          | 40              | never smoked    | 0               |\n",
       "| 19723           | Female          | 35.00           | 0               | 0               | Yes             | Self-employed   | Rural           |  82.99          | 30.6            | never smoked    | 0               |\n",
       "| 37544           | Male            | 51.00           | 0               | 0               | Yes             | Private         | Rural           | 166.29          | 25.6            | formerly smoked | 0               |\n",
       "| 44679           | Female          | 44.00           | 0               | 0               | Yes             | Govt_job        | Urban           |  85.28          | 26.2            | Unknown         | 0               |\n",
       "\n"
      ],
      "text/plain": [
       "     id    gender age   hypertension heart_disease ever_married work_type    \n",
       "1     9046 Male   67    0            1             Yes          Private      \n",
       "2    51676 Female 61    0            0             Yes          Self-employed\n",
       "3    31112 Male   80    0            1             Yes          Private      \n",
       "4    60182 Female 49    0            0             Yes          Private      \n",
       "5     1665 Female 79    1            0             Yes          Self-employed\n",
       "6    56669 Male   81    0            0             Yes          Private      \n",
       "7    53882 Male   74    1            1             Yes          Private      \n",
       "8    10434 Female 69    0            0             No           Private      \n",
       "9    27419 Female 59    0            0             Yes          Private      \n",
       "10   60491 Female 78    0            0             Yes          Private      \n",
       "11   12109 Female 81    1            0             Yes          Private      \n",
       "12   12095 Female 61    0            1             Yes          Govt_job     \n",
       "13   12175 Female 54    0            0             Yes          Private      \n",
       "14    8213 Male   78    0            1             Yes          Private      \n",
       "15    5317 Female 79    0            1             Yes          Private      \n",
       "16   58202 Female 50    1            0             Yes          Self-employed\n",
       "17   56112 Male   64    0            1             Yes          Private      \n",
       "18   34120 Male   75    1            0             Yes          Private      \n",
       "19   27458 Female 60    0            0             No           Private      \n",
       "20   25226 Male   57    0            1             No           Govt_job     \n",
       "21   70630 Female 71    0            0             Yes          Govt_job     \n",
       "22   13861 Female 52    1            0             Yes          Self-employed\n",
       "23   68794 Female 79    0            0             Yes          Self-employed\n",
       "24   64778 Male   82    0            1             Yes          Private      \n",
       "25    4219 Male   71    0            0             Yes          Private      \n",
       "26   70822 Male   80    0            0             Yes          Self-employed\n",
       "27   38047 Female 65    0            0             Yes          Private      \n",
       "28   61843 Male   58    0            0             Yes          Private      \n",
       "29   54827 Male   69    0            1             Yes          Self-employed\n",
       "30   69160 Male   59    0            0             Yes          Private      \n",
       "...  ...   ...    ...   ...          ...           ...          ...          \n",
       "5081 22691 Female 29.00 0            0             Yes          Self-employed\n",
       "5082 37680 Male   55.00 0            0             Yes          Govt_job     \n",
       "5083 24552 Female 44.00 0            0             Yes          Private      \n",
       "5084 72914 Female 19.00 0            0             No           Private      \n",
       "5085 29540 Male   67.00 0            0             Yes          Private      \n",
       "5086 53525 Female 72.00 0            0             Yes          Private      \n",
       "5087 65411 Female 51.00 0            0             Yes          Private      \n",
       "5088 26214 Female 63.00 0            0             Yes          Self-employed\n",
       "5089 22190 Female 64.00 1            0             Yes          Self-employed\n",
       "5090 56714 Female  0.72 0            0             No           children     \n",
       "5091  4211 Male   26.00 0            0             No           Govt_job     \n",
       "5092  6369 Male   59.00 1            0             Yes          Private      \n",
       "5093 56799 Male   76.00 0            0             Yes          Govt_job     \n",
       "5094 32235 Female 45.00 1            0             Yes          Govt_job     \n",
       "5095 28048 Male   13.00 0            0             No           children     \n",
       "5096 68598 Male    1.08 0            0             No           children     \n",
       "5097 41512 Male   57.00 0            0             Yes          Govt_job     \n",
       "5098 64520 Male   68.00 0            0             Yes          Self-employed\n",
       "5099   579 Male    9.00 0            0             No           children     \n",
       "5100  7293 Male   40.00 0            0             Yes          Private      \n",
       "5101 68398 Male   82.00 1            0             Yes          Self-employed\n",
       "5102 36901 Female 45.00 0            0             Yes          Private      \n",
       "5103 45010 Female 57.00 0            0             Yes          Private      \n",
       "5104 22127 Female 18.00 0            0             No           Private      \n",
       "5105 14180 Female 13.00 0            0             No           children     \n",
       "5106 18234 Female 80.00 1            0             Yes          Private      \n",
       "5107 44873 Female 81.00 0            0             Yes          Self-employed\n",
       "5108 19723 Female 35.00 0            0             Yes          Self-employed\n",
       "5109 37544 Male   51.00 0            0             Yes          Private      \n",
       "5110 44679 Female 44.00 0            0             Yes          Govt_job     \n",
       "     Residence_type avg_glucose_level bmi  smoking_status  stroke\n",
       "1    Urban          228.69            36.6 formerly smoked 1     \n",
       "2    Rural          202.21            N/A  never smoked    1     \n",
       "3    Rural          105.92            32.5 never smoked    1     \n",
       "4    Urban          171.23            34.4 smokes          1     \n",
       "5    Rural          174.12            24   never smoked    1     \n",
       "6    Urban          186.21            29   formerly smoked 1     \n",
       "7    Rural           70.09            27.4 never smoked    1     \n",
       "8    Urban           94.39            22.8 never smoked    1     \n",
       "9    Rural           76.15            N/A  Unknown         1     \n",
       "10   Urban           58.57            24.2 Unknown         1     \n",
       "11   Rural           80.43            29.7 never smoked    1     \n",
       "12   Rural          120.46            36.8 smokes          1     \n",
       "13   Urban          104.51            27.3 smokes          1     \n",
       "14   Urban          219.84            N/A  Unknown         1     \n",
       "15   Urban          214.09            28.2 never smoked    1     \n",
       "16   Rural          167.41            30.9 never smoked    1     \n",
       "17   Urban          191.61            37.5 smokes          1     \n",
       "18   Urban          221.29            25.8 smokes          1     \n",
       "19   Urban           89.22            37.8 never smoked    1     \n",
       "20   Urban          217.08            N/A  Unknown         1     \n",
       "21   Rural          193.94            22.4 smokes          1     \n",
       "22   Urban          233.29            48.9 never smoked    1     \n",
       "23   Urban          228.70            26.6 never smoked    1     \n",
       "24   Rural          208.30            32.5 Unknown         1     \n",
       "25   Urban          102.87            27.2 formerly smoked 1     \n",
       "26   Rural          104.12            23.5 never smoked    1     \n",
       "27   Rural          100.98            28.2 formerly smoked 1     \n",
       "28   Rural          189.84            N/A  Unknown         1     \n",
       "29   Urban          195.23            28.3 smokes          1     \n",
       "30   Rural          211.78            N/A  formerly smoked 1     \n",
       "...  ...            ...               ...  ...             ...   \n",
       "5081 Urban           90.52            28   never smoked    0     \n",
       "5082 Rural          108.35            40.8 formerly smoked 0     \n",
       "5083 Rural           72.03            37.5 smokes          0     \n",
       "5084 Urban           90.57            24.2 Unknown         0     \n",
       "5085 Rural           97.04            26.9 smokes          0     \n",
       "5086 Urban           83.89            33.1 formerly smoked 0     \n",
       "5087 Urban          152.56            21.8 Unknown         0     \n",
       "5088 Rural           75.93            34.7 formerly smoked 0     \n",
       "5089 Urban           76.89            30.2 Unknown         0     \n",
       "5090 Rural           62.13            16.8 Unknown         0     \n",
       "5091 Rural          100.85            21   smokes          0     \n",
       "5092 Rural           95.05            30.9 never smoked    0     \n",
       "5093 Urban           82.35            38.9 never smoked    0     \n",
       "5094 Rural           95.02            N/A  smokes          0     \n",
       "5095 Urban           82.38            24.3 Unknown         0     \n",
       "5096 Rural           79.15            17.4 Unknown         0     \n",
       "5097 Rural           76.62            28.2 never smoked    0     \n",
       "5098 Urban           91.68            40.8 Unknown         0     \n",
       "5099 Urban           71.88            17.5 Unknown         0     \n",
       "5100 Rural           83.94            N/A  smokes          0     \n",
       "5101 Rural           71.97            28.3 never smoked    0     \n",
       "5102 Urban           97.95            24.5 Unknown         0     \n",
       "5103 Rural           77.93            21.7 never smoked    0     \n",
       "5104 Urban           82.85            46.9 Unknown         0     \n",
       "5105 Rural          103.08            18.6 Unknown         0     \n",
       "5106 Urban           83.75            N/A  never smoked    0     \n",
       "5107 Urban          125.20            40   never smoked    0     \n",
       "5108 Rural           82.99            30.6 never smoked    0     \n",
       "5109 Rural          166.29            25.6 formerly smoked 0     \n",
       "5110 Urban           85.28            26.2 Unknown         0     "
      ]
     },
     "metadata": {},
     "output_type": "display_data"
    }
   ],
   "source": [
    "# load Dataset\n",
    "# read data from csv\n",
    "df<-read.csv('C:/Users/natu/Downloads/healthcare-dataset-stroke-data.csv', header = TRUE)\n",
    "df"
   ]
  },
  {
   "cell_type": "code",
   "execution_count": 22,
   "id": "21518165",
   "metadata": {},
   "outputs": [
    {
     "data": {
      "text/html": [
       "<ol class=list-inline>\n",
       "\t<li>5110</li>\n",
       "\t<li>12</li>\n",
       "</ol>\n"
      ],
      "text/latex": [
       "\\begin{enumerate*}\n",
       "\\item 5110\n",
       "\\item 12\n",
       "\\end{enumerate*}\n"
      ],
      "text/markdown": [
       "1. 5110\n",
       "2. 12\n",
       "\n",
       "\n"
      ],
      "text/plain": [
       "[1] 5110   12"
      ]
     },
     "metadata": {},
     "output_type": "display_data"
    }
   ],
   "source": [
    "dim(df)"
   ]
  },
  {
   "cell_type": "code",
   "execution_count": 3,
   "id": "47852ab0",
   "metadata": {},
   "outputs": [
    {
     "data": {
      "text/plain": [
       "       id           gender          age         hypertension    \n",
       " Min.   :   67   Female:2994   Min.   : 0.08   Min.   :0.00000  \n",
       " 1st Qu.:17741   Male  :2115   1st Qu.:25.00   1st Qu.:0.00000  \n",
       " Median :36932   Other :   1   Median :45.00   Median :0.00000  \n",
       " Mean   :36518                 Mean   :43.23   Mean   :0.09746  \n",
       " 3rd Qu.:54682                 3rd Qu.:61.00   3rd Qu.:0.00000  \n",
       " Max.   :72940                 Max.   :82.00   Max.   :1.00000  \n",
       "                                                                \n",
       " heart_disease     ever_married         work_type    Residence_type\n",
       " Min.   :0.00000   No :1757     children     : 687   Rural:2514    \n",
       " 1st Qu.:0.00000   Yes:3353     Govt_job     : 657   Urban:2596    \n",
       " Median :0.00000                Never_worked :  22                 \n",
       " Mean   :0.05401                Private      :2925                 \n",
       " 3rd Qu.:0.00000                Self-employed: 819                 \n",
       " Max.   :1.00000                                                   \n",
       "                                                                   \n",
       " avg_glucose_level      bmi               smoking_status     stroke       \n",
       " Min.   : 55.12    N/A    : 201   formerly smoked: 885   Min.   :0.00000  \n",
       " 1st Qu.: 77.25    28.7   :  41   never smoked   :1892   1st Qu.:0.00000  \n",
       " Median : 91.89    28.4   :  38   smokes         : 789   Median :0.00000  \n",
       " Mean   :106.15    26.1   :  37   Unknown        :1544   Mean   :0.04873  \n",
       " 3rd Qu.:114.09    26.7   :  37                          3rd Qu.:0.00000  \n",
       " Max.   :271.74    27.6   :  37                          Max.   :1.00000  \n",
       "                   (Other):4719                                           "
      ]
     },
     "metadata": {},
     "output_type": "display_data"
    }
   ],
   "source": [
    "summary(df)"
   ]
  },
  {
   "cell_type": "code",
   "execution_count": 19,
   "id": "bc1623bc",
   "metadata": {},
   "outputs": [
    {
     "data": {
      "image/png": "[encoded data removed]",
      "text/plain": [
       "Plot with title \"Missing values vs observed\""
      ]
     },
     "metadata": {},
     "output_type": "display_data"
    }
   ],
   "source": [
    "missmap(df, main = \"Missing values vs observed\")\n"
   ]
  },
  {
   "cell_type": "markdown",
   "id": "9a866e0b",
   "metadata": {},
   "source": [
    "Target variable\n",
    "stroke\n",
    "\n",
    "\n",
    "Categorical variables\n",
    "stroke, gender, hypertension, heart_disease, ever_married, work_type, Residence_type, smoking_status\n",
    "\n",
    "\n",
    "Continuous variables\n",
    "age, avg_glucose_level, bmi\n",
    "\n",
    "Missing values"
   ]
  },
  {
   "cell_type": "markdown",
   "id": "989c7b94",
   "metadata": {},
   "source": [
    "### Outliers check With Data Visualization"
   ]
  },
  {
   "cell_type": "code",
   "execution_count": 4,
   "id": "85a3c942",
   "metadata": {},
   "outputs": [
    {
     "data": {
      "text/html": [
       "<ol class=list-inline>\n",
       "\t<li>1</li>\n",
       "\t<li>0</li>\n",
       "</ol>\n"
      ],
      "text/latex": [
       "\\begin{enumerate*}\n",
       "\\item 1\n",
       "\\item 0\n",
       "\\end{enumerate*}\n"
      ],
      "text/markdown": [
       "1. 1\n",
       "2. 0\n",
       "\n",
       "\n"
      ],
      "text/plain": [
       "[1] 1 0"
      ]
     },
     "metadata": {},
     "output_type": "display_data"
    },
    {
     "data": {
      "text/html": [
       "<ol class=list-inline>\n",
       "\t<li>Male</li>\n",
       "\t<li>Female</li>\n",
       "\t<li>Other</li>\n",
       "</ol>\n",
       "\n",
       "<details>\n",
       "\t<summary style=display:list-item;cursor:pointer>\n",
       "\t\t<strong>Levels</strong>:\n",
       "\t</summary>\n",
       "\t<ol class=list-inline>\n",
       "\t\t<li>'Female'</li>\n",
       "\t\t<li>'Male'</li>\n",
       "\t\t<li>'Other'</li>\n",
       "\t</ol>\n",
       "</details>"
      ],
      "text/latex": [
       "\\begin{enumerate*}\n",
       "\\item Male\n",
       "\\item Female\n",
       "\\item Other\n",
       "\\end{enumerate*}\n",
       "\n",
       "\\emph{Levels}: \\begin{enumerate*}\n",
       "\\item 'Female'\n",
       "\\item 'Male'\n",
       "\\item 'Other'\n",
       "\\end{enumerate*}\n"
      ],
      "text/markdown": [
       "1. Male\n",
       "2. Female\n",
       "3. Other\n",
       "\n",
       "\n",
       "\n",
       "**Levels**: 1. 'Female'\n",
       "2. 'Male'\n",
       "3. 'Other'\n",
       "\n",
       "\n"
      ],
      "text/plain": [
       "[1] Male   Female Other \n",
       "Levels: Female Male Other"
      ]
     },
     "metadata": {},
     "output_type": "display_data"
    },
    {
     "data": {
      "text/html": [
       "<ol class=list-inline>\n",
       "\t<li>0</li>\n",
       "\t<li>1</li>\n",
       "</ol>\n"
      ],
      "text/latex": [
       "\\begin{enumerate*}\n",
       "\\item 0\n",
       "\\item 1\n",
       "\\end{enumerate*}\n"
      ],
      "text/markdown": [
       "1. 0\n",
       "2. 1\n",
       "\n",
       "\n"
      ],
      "text/plain": [
       "[1] 0 1"
      ]
     },
     "metadata": {},
     "output_type": "display_data"
    },
    {
     "data": {
      "text/html": [
       "<ol class=list-inline>\n",
       "\t<li>1</li>\n",
       "\t<li>0</li>\n",
       "</ol>\n"
      ],
      "text/latex": [
       "\\begin{enumerate*}\n",
       "\\item 1\n",
       "\\item 0\n",
       "\\end{enumerate*}\n"
      ],
      "text/markdown": [
       "1. 1\n",
       "2. 0\n",
       "\n",
       "\n"
      ],
      "text/plain": [
       "[1] 1 0"
      ]
     },
     "metadata": {},
     "output_type": "display_data"
    },
    {
     "data": {
      "text/html": [
       "<ol class=list-inline>\n",
       "\t<li>Yes</li>\n",
       "\t<li>No</li>\n",
       "</ol>\n",
       "\n",
       "<details>\n",
       "\t<summary style=display:list-item;cursor:pointer>\n",
       "\t\t<strong>Levels</strong>:\n",
       "\t</summary>\n",
       "\t<ol class=list-inline>\n",
       "\t\t<li>'No'</li>\n",
       "\t\t<li>'Yes'</li>\n",
       "\t</ol>\n",
       "</details>"
      ],
      "text/latex": [
       "\\begin{enumerate*}\n",
       "\\item Yes\n",
       "\\item No\n",
       "\\end{enumerate*}\n",
       "\n",
       "\\emph{Levels}: \\begin{enumerate*}\n",
       "\\item 'No'\n",
       "\\item 'Yes'\n",
       "\\end{enumerate*}\n"
      ],
      "text/markdown": [
       "1. Yes\n",
       "2. No\n",
       "\n",
       "\n",
       "\n",
       "**Levels**: 1. 'No'\n",
       "2. 'Yes'\n",
       "\n",
       "\n"
      ],
      "text/plain": [
       "[1] Yes No \n",
       "Levels: No Yes"
      ]
     },
     "metadata": {},
     "output_type": "display_data"
    },
    {
     "data": {
      "text/html": [
       "<ol class=list-inline>\n",
       "\t<li>Private</li>\n",
       "\t<li>Self-employed</li>\n",
       "\t<li>Govt_job</li>\n",
       "\t<li>children</li>\n",
       "\t<li>Never_worked</li>\n",
       "</ol>\n",
       "\n",
       "<details>\n",
       "\t<summary style=display:list-item;cursor:pointer>\n",
       "\t\t<strong>Levels</strong>:\n",
       "\t</summary>\n",
       "\t<ol class=list-inline>\n",
       "\t\t<li>'children'</li>\n",
       "\t\t<li>'Govt_job'</li>\n",
       "\t\t<li>'Never_worked'</li>\n",
       "\t\t<li>'Private'</li>\n",
       "\t\t<li>'Self-employed'</li>\n",
       "\t</ol>\n",
       "</details>"
      ],
      "text/latex": [
       "\\begin{enumerate*}\n",
       "\\item Private\n",
       "\\item Self-employed\n",
       "\\item Govt\\_job\n",
       "\\item children\n",
       "\\item Never\\_worked\n",
       "\\end{enumerate*}\n",
       "\n",
       "\\emph{Levels}: \\begin{enumerate*}\n",
       "\\item 'children'\n",
       "\\item 'Govt\\_job'\n",
       "\\item 'Never\\_worked'\n",
       "\\item 'Private'\n",
       "\\item 'Self-employed'\n",
       "\\end{enumerate*}\n"
      ],
      "text/markdown": [
       "1. Private\n",
       "2. Self-employed\n",
       "3. Govt_job\n",
       "4. children\n",
       "5. Never_worked\n",
       "\n",
       "\n",
       "\n",
       "**Levels**: 1. 'children'\n",
       "2. 'Govt_job'\n",
       "3. 'Never_worked'\n",
       "4. 'Private'\n",
       "5. 'Self-employed'\n",
       "\n",
       "\n"
      ],
      "text/plain": [
       "[1] Private       Self-employed Govt_job      children      Never_worked \n",
       "Levels: children Govt_job Never_worked Private Self-employed"
      ]
     },
     "metadata": {},
     "output_type": "display_data"
    },
    {
     "data": {
      "text/html": [
       "<ol class=list-inline>\n",
       "\t<li>Urban</li>\n",
       "\t<li>Rural</li>\n",
       "</ol>\n",
       "\n",
       "<details>\n",
       "\t<summary style=display:list-item;cursor:pointer>\n",
       "\t\t<strong>Levels</strong>:\n",
       "\t</summary>\n",
       "\t<ol class=list-inline>\n",
       "\t\t<li>'Rural'</li>\n",
       "\t\t<li>'Urban'</li>\n",
       "\t</ol>\n",
       "</details>"
      ],
      "text/latex": [
       "\\begin{enumerate*}\n",
       "\\item Urban\n",
       "\\item Rural\n",
       "\\end{enumerate*}\n",
       "\n",
       "\\emph{Levels}: \\begin{enumerate*}\n",
       "\\item 'Rural'\n",
       "\\item 'Urban'\n",
       "\\end{enumerate*}\n"
      ],
      "text/markdown": [
       "1. Urban\n",
       "2. Rural\n",
       "\n",
       "\n",
       "\n",
       "**Levels**: 1. 'Rural'\n",
       "2. 'Urban'\n",
       "\n",
       "\n"
      ],
      "text/plain": [
       "[1] Urban Rural\n",
       "Levels: Rural Urban"
      ]
     },
     "metadata": {},
     "output_type": "display_data"
    },
    {
     "data": {
      "text/html": [
       "<ol class=list-inline>\n",
       "\t<li>formerly smoked</li>\n",
       "\t<li>never smoked</li>\n",
       "\t<li>smokes</li>\n",
       "\t<li>Unknown</li>\n",
       "</ol>\n",
       "\n",
       "<details>\n",
       "\t<summary style=display:list-item;cursor:pointer>\n",
       "\t\t<strong>Levels</strong>:\n",
       "\t</summary>\n",
       "\t<ol class=list-inline>\n",
       "\t\t<li>'formerly smoked'</li>\n",
       "\t\t<li>'never smoked'</li>\n",
       "\t\t<li>'smokes'</li>\n",
       "\t\t<li>'Unknown'</li>\n",
       "\t</ol>\n",
       "</details>"
      ],
      "text/latex": [
       "\\begin{enumerate*}\n",
       "\\item formerly smoked\n",
       "\\item never smoked\n",
       "\\item smokes\n",
       "\\item Unknown\n",
       "\\end{enumerate*}\n",
       "\n",
       "\\emph{Levels}: \\begin{enumerate*}\n",
       "\\item 'formerly smoked'\n",
       "\\item 'never smoked'\n",
       "\\item 'smokes'\n",
       "\\item 'Unknown'\n",
       "\\end{enumerate*}\n"
      ],
      "text/markdown": [
       "1. formerly smoked\n",
       "2. never smoked\n",
       "3. smokes\n",
       "4. Unknown\n",
       "\n",
       "\n",
       "\n",
       "**Levels**: 1. 'formerly smoked'\n",
       "2. 'never smoked'\n",
       "3. 'smokes'\n",
       "4. 'Unknown'\n",
       "\n",
       "\n"
      ],
      "text/plain": [
       "[1] formerly smoked never smoked    smokes          Unknown        \n",
       "Levels: formerly smoked never smoked smokes Unknown"
      ]
     },
     "metadata": {},
     "output_type": "display_data"
    }
   ],
   "source": [
    "unique(df$stroke)\n",
    "unique(df$gender)\n",
    "unique(df$hypertension)\n",
    "unique(df$heart_disease)\n",
    "unique(df$ever_married)\n",
    "unique(df$work_type)\n",
    "unique(df$Residence_type)\n",
    "unique(df$smoking_status)"
   ]
  },
  {
   "cell_type": "markdown",
   "id": "80bd335d",
   "metadata": {},
   "source": [
    "##### Here identified some outliers  values - gender(\"other\") - smoking_status(\"Unknown\")\n",
    "\n"
   ]
  },
  {
   "cell_type": "code",
   "execution_count": 5,
   "id": "233e94d5",
   "metadata": {},
   "outputs": [
    {
     "data": {
      "text/plain": [
       "\n",
       "Female   Male  Other \n",
       "  2994   2115      1 "
      ]
     },
     "metadata": {},
     "output_type": "display_data"
    },
    {
     "data": {
      "text/plain": [
       "\n",
       "formerly smoked    never smoked          smokes         Unknown \n",
       "            885            1892             789            1544 "
      ]
     },
     "metadata": {},
     "output_type": "display_data"
    },
    {
     "data": {
      "text/plain": [
       "\n",
       "     children      Govt_job  Never_worked       Private Self-employed \n",
       "          687           657            22          2925           819 "
      ]
     },
     "metadata": {},
     "output_type": "display_data"
    },
    {
     "data": {
      "text/html": [
       "201"
      ],
      "text/latex": [
       "201"
      ],
      "text/markdown": [
       "201"
      ],
      "text/plain": [
       "[1] 201"
      ]
     },
     "metadata": {},
     "output_type": "display_data"
    }
   ],
   "source": [
    "table(df$gender)\n",
    "table(df$smoking_status)\n",
    "table(df$work_type)\n",
    "length(df$bmi[df$bmi == \"N/A\"])"
   ]
  },
  {
   "cell_type": "markdown",
   "id": "97d7515c",
   "metadata": {},
   "source": [
    "gender: \"other\" is one so it will be removed.\n",
    "\n",
    "bmi: this property has 201 \"N/A\" string. There are some solution for null but I decide to remove them."
   ]
  },
  {
   "cell_type": "code",
   "execution_count": 6,
   "id": "e169ee8c",
   "metadata": {},
   "outputs": [],
   "source": [
    "# remove outlier values\n",
    "df_clean <- df %>% filter(df$gender!='Other')\n",
    "#df_clean = df_clean %>% filter(df_clean$work_type!='Never_worked')\n",
    "df_clean = df_clean %>% filter(df_clean$bmi!='N/A')\n",
    "\n",
    "# convert chr to factors\n",
    "df_clean$gender = as.factor(df_clean$gender)\n",
    "df_clean$ever_married = as.factor(df_clean$ever_married)\n",
    "df_clean$work_type = as.factor(df_clean$work_type)\n",
    "df_clean$Residence_type = as.factor(df_clean$Residence_type)\n",
    "df_clean$smoking_status = as.factor(df_clean$smoking_status)\n",
    "df_clean$bmi = as.numeric(df_clean$bmi)"
   ]
  },
  {
   "cell_type": "markdown",
   "id": "5ede0fe6",
   "metadata": {},
   "source": [
    "#Now,check variables with ggplot2 and statistics analysis"
   ]
  },
  {
   "cell_type": "code",
   "execution_count": 7,
   "id": "b7132953",
   "metadata": {},
   "outputs": [
    {
     "data": {
      "text/plain": [
       "        stroke\n",
       "gender      0    1\n",
       "  Female 2777  120\n",
       "  Male   1922   89\n",
       "  Other     0    0"
      ]
     },
     "metadata": {},
     "output_type": "display_data"
    },
    {
     "data": {
      "text/plain": [
       "\n",
       "\tPearson's Chi-squared test with Yates' continuity correction\n",
       "\n",
       "data:  df_clean$gender and df_clean$stroke\n",
       "X-squared = 0.16955, df = 1, p-value = 0.6805\n"
      ]
     },
     "metadata": {},
     "output_type": "display_data"
    },
    {
     "data": {
      "image/png": "[encoded data removed]",
      "text/plain": [
       "plot without title"
      ]
     },
     "metadata": {},
     "output_type": "display_data"
    }
   ],
   "source": [
    "# check gender vs stroke\n",
    "\n",
    "## check by graph\n",
    " ggplot(df_clean, aes(x=gender, fill=as.factor(stroke)))+\n",
    "  geom_bar(aes(y=..count../tapply(..count.., ..x.., sum)[..x..]), position = \"dodge\")+\n",
    "  geom_text(aes( y=..count../tapply(..count.., ..x.. ,sum)[..x..], label=scales::percent(..count../tapply(..count.., ..x.. ,sum)[..x..]) ), stat=\"count\", position=position_dodge(0.9), vjust=-0.5)+ylab('Percent of Gender Group, %') +\n",
    "  scale_y_continuous(labels = scales::percent)\n",
    "\n",
    "\n",
    "## check by statistical analysis chisq-test\n",
    "table(data.frame(gender=df_clean$gender, stroke=df_clean$stroke))\n",
    "chisq.test(df_clean$gender, df_clean$stroke)\n",
    "        \n",
    "\n"
   ]
  },
  {
   "cell_type": "markdown",
   "id": "857188f4",
   "metadata": {},
   "source": [
    "As you can see with plot shows you there is no correlation of 'male' and 'female' and p-value = 0.6715>0.05 so that 'gender' has nothing with 'stroke'"
   ]
  },
  {
   "cell_type": "code",
   "execution_count": 8,
   "id": "f0a452e5",
   "metadata": {},
   "outputs": [
    {
     "data": {
      "text/plain": [
       "            stroke\n",
       "hypertension    0    1\n",
       "           0 4308  149\n",
       "           1  391   60"
      ]
     },
     "metadata": {},
     "output_type": "display_data"
    },
    {
     "data": {
      "text/plain": [
       "\n",
       "\tPearson's Chi-squared test with Yates' continuity correction\n",
       "\n",
       "data:  df_clean$hypertension and df_clean$stroke\n",
       "X-squared = 97.239, df = 1, p-value < 2.2e-16\n"
      ]
     },
     "metadata": {},
     "output_type": "display_data"
    },
    {
     "data": {
      "image/png": "[encoded data removed]",
      "text/plain": [
       "plot without title"
      ]
     },
     "metadata": {},
     "output_type": "display_data"
    }
   ],
   "source": [
    "# check hypertesion vs stroke\n",
    "ggplot(df_clean, aes(x=as.factor(hypertension), fill=as.factor(stroke)))+\n",
    "  geom_bar(aes(y=..count../tapply(..count.., ..x.., sum)[..x..]), position = \"dodge\")+\n",
    "  geom_text(aes( y=..count../tapply(..count.., ..x.. ,sum)[..x..], label=scales::percent(..count../tapply(..count.., ..x.. ,sum)[..x..]) ), stat=\"count\", position=position_dodge(0.9), vjust=-0.5)+ylab('Percent of Hypertension Group, %') +\n",
    "  scale_y_continuous(labels = scales::percent)\n",
    "\n",
    "table(data.frame(hypertension=df_clean$hypertension, stroke=df_clean$stroke))\n",
    "chisq.test(df_clean$hypertension, df_clean$stroke)\n",
    "# has correlation"
   ]
  },
  {
   "cell_type": "markdown",
   "id": "90a14d9a",
   "metadata": {},
   "source": [
    "Given plot shows you stroke percentage 'hypertension' 1 higher than 'hypertension' 0 and p-value<2.2e-16 so that 'hypertension' is related with stroke"
   ]
  },
  {
   "cell_type": "code",
   "execution_count": 9,
   "id": "3e965663",
   "metadata": {},
   "outputs": [
    {
     "data": {
      "text/plain": [
       "      stroke\n",
       "gender    0    1\n",
       "     0 4496  169\n",
       "     1  203   40"
      ]
     },
     "metadata": {},
     "output_type": "display_data"
    },
    {
     "data": {
      "text/plain": [
       "\n",
       "\tPearson's Chi-squared test with Yates' continuity correction\n",
       "\n",
       "data:  df_clean$heart_disease and df_clean$stroke\n",
       "X-squared = 90.25, df = 1, p-value < 2.2e-16\n"
      ]
     },
     "metadata": {},
     "output_type": "display_data"
    },
    {
     "data": {
      "image/png": "[encoded data removed]",
      "text/plain": [
       "plot without title"
      ]
     },
     "metadata": {},
     "output_type": "display_data"
    }
   ],
   "source": [
    "# check heart_disease vs stroke\n",
    "ggplot(df_clean, aes(x=as.factor(heart_disease), fill=as.factor(stroke)))+\n",
    "  geom_bar(aes(y=..count../tapply(..count.., ..x.., sum)[..x..]), position = \"dodge\")+\n",
    "  geom_text(aes( y=..count../tapply(..count.., ..x.. ,sum)[..x..], label=scales::percent(..count../tapply(..count.., ..x.. ,sum)[..x..]) ), stat=\"count\", position=position_dodge(0.9), vjust=-0.5)+ylab('Percent of Hypertension Group, %') +\n",
    "  scale_y_continuous(labels = scales::percent)\n",
    "table(data.frame(gender=df_clean$heart_disease, stroke=df_clean$stroke))\n",
    "chisq.test(df_clean$heart_disease, df_clean$stroke)"
   ]
  },
  {
   "cell_type": "markdown",
   "id": "644e86de",
   "metadata": {},
   "source": [
    "plot shows 'heart_disease' effect to 'stroke' and statistical analyisis has same.\n",
    "\n"
   ]
  },
  {
   "cell_type": "code",
   "execution_count": 10,
   "id": "bcf24d47",
   "metadata": {},
   "outputs": [
    {
     "data": {
      "text/plain": [
       "     \n",
       "         0    1\n",
       "  No  1681   23\n",
       "  Yes 3018  186"
      ]
     },
     "metadata": {},
     "output_type": "display_data"
    },
    {
     "data": {
      "text/plain": [
       "\n",
       "\tPearson's Chi-squared test with Yates' continuity correction\n",
       "\n",
       "data:  df_clean$ever_married and df_clean$stroke\n",
       "X-squared = 53.076, df = 1, p-value = 3.209e-13\n"
      ]
     },
     "metadata": {},
     "output_type": "display_data"
    },
    {
     "data": {
      "image/png": "[encoded data removed]",
      "text/plain": [
       "plot without title"
      ]
     },
     "metadata": {},
     "output_type": "display_data"
    }
   ],
   "source": [
    "# check ever_married vs stroke\n",
    "ggplot(df_clean, aes(x=as.factor(ever_married), fill=as.factor(stroke)))+\n",
    "  geom_bar(aes(y=..count../tapply(..count.., ..x.., sum)[..x..]), position = \"dodge\")+\n",
    "  geom_text(aes( y=..count../tapply(..count.., ..x.. ,sum)[..x..], label=scales::percent(..count../tapply(..count.., ..x.. ,sum)[..x..]) ), stat=\"count\", position=position_dodge(0.9), vjust=-0.5)+ylab('Percent of Hypertension Group, %') +\n",
    "  scale_y_continuous(labels = scales::percent)\n",
    "table(df_clean$ever_married, df_clean$stroke)\n",
    "chisq.test(df_clean$ever_married, df_clean$stroke)\n",
    "# has correlation"
   ]
  },
  {
   "cell_type": "markdown",
   "id": "5b1d314e",
   "metadata": {},
   "source": [
    "'ever_married' has correlation with 'stroke'\n",
    "\n"
   ]
  },
  {
   "cell_type": "code",
   "execution_count": 11,
   "id": "08c157ec",
   "metadata": {},
   "outputs": [
    {
     "data": {
      "text/plain": [
       "               \n",
       "                   0    1\n",
       "  children       670    1\n",
       "  Govt_job       602   28\n",
       "  Never_worked    22    0\n",
       "  Private       2683  127\n",
       "  Self-employed  722   53"
      ]
     },
     "metadata": {},
     "output_type": "display_data"
    },
    {
     "name": "stderr",
     "output_type": "stream",
     "text": [
      "Warning message in chisq.test(df_clean$work_type, df_clean$stroke):\n",
      "\"Chi-squared approximation may be incorrect\""
     ]
    },
    {
     "data": {
      "text/plain": [
       "\n",
       "\tPearson's Chi-squared test\n",
       "\n",
       "data:  df_clean$work_type and df_clean$stroke\n",
       "X-squared = 41.951, df = 4, p-value = 1.708e-08\n"
      ]
     },
     "metadata": {},
     "output_type": "display_data"
    },
    {
     "data": {
      "image/png": "[encoded data removed]",
      "text/plain": [
       "plot without title"
      ]
     },
     "metadata": {},
     "output_type": "display_data"
    }
   ],
   "source": [
    "# check worktye vs stroke\n",
    "ggplot(df_clean, aes(x=as.factor(work_type), fill=as.factor(stroke)))+\n",
    "  geom_bar(aes(y=..count../tapply(..count.., ..x.., sum)[..x..]), position = \"dodge\")+\n",
    "  geom_text(aes( y=..count../tapply(..count.., ..x.. ,sum)[..x..], label=scales::percent(..count../tapply(..count.., ..x.. ,sum)[..x..]) ), stat=\"count\", position=position_dodge(0.9), vjust=-0.5)+ylab('Percent of Hypertension Group, %') +\n",
    "  scale_y_continuous(labels = scales::percent)\n",
    "table(df_clean$work_type, df_clean$stroke)\n",
    "chisq.test(df_clean$work_type, df_clean$stroke)\n",
    "# has correlation"
   ]
  },
  {
   "cell_type": "markdown",
   "id": "c2cf8fe1",
   "metadata": {},
   "source": [
    "'work_type' has correlation with 'stroke'. Funny 'never_worked' human dont worry about stroke\n",
    "\n"
   ]
  },
  {
   "cell_type": "code",
   "execution_count": 12,
   "id": "cd0289ff",
   "metadata": {},
   "outputs": [
    {
     "data": {
      "text/plain": [
       "       \n",
       "           0    1\n",
       "  Rural 2318  100\n",
       "  Urban 2381  109"
      ]
     },
     "metadata": {},
     "output_type": "display_data"
    },
    {
     "data": {
      "text/plain": [
       "\n",
       "\tPearson's Chi-squared test with Yates' continuity correction\n",
       "\n",
       "data:  df_clean$Residence_type and df_clean$stroke\n",
       "X-squared = 0.12169, df = 1, p-value = 0.7272\n"
      ]
     },
     "metadata": {},
     "output_type": "display_data"
    },
    {
     "data": {
      "image/png": "[encoded data removed]",
      "text/plain": [
       "plot without title"
      ]
     },
     "metadata": {},
     "output_type": "display_data"
    }
   ],
   "source": [
    "# check Residence_type vs stroke\n",
    "ggplot(df_clean, aes(x=as.factor(Residence_type), fill=as.factor(stroke)))+\n",
    "  geom_bar(aes(y=..count../tapply(..count.., ..x.., sum)[..x..]), position = \"dodge\")+\n",
    "  geom_text(aes( y=..count../tapply(..count.., ..x.. ,sum)[..x..], label=scales::percent(..count../tapply(..count.., ..x.. ,sum)[..x..]) ), stat=\"count\", position=position_dodge(0.9), vjust=-0.5)+ylab('Percent of Hypertension Group, %') +\n",
    "  scale_y_continuous(labels = scales::percent)\n",
    "table(df_clean$Residence_type, df_clean$stroke)\n",
    "chisq.test(df_clean$Residence_type, df_clean$stroke)"
   ]
  },
  {
   "cell_type": "markdown",
   "id": "6a258b94",
   "metadata": {},
   "source": [
    "'Residence_type' has a little but ignore this so guess that no correlation\n",
    "\n"
   ]
  },
  {
   "cell_type": "code",
   "execution_count": 13,
   "id": "347241c1",
   "metadata": {},
   "outputs": [
    {
     "data": {
      "text/plain": [
       "       \n",
       "           0    1\n",
       "  Rural 2318  100\n",
       "  Urban 2381  109"
      ]
     },
     "metadata": {},
     "output_type": "display_data"
    },
    {
     "data": {
      "text/plain": [
       "\n",
       "\tPearson's Chi-squared test\n",
       "\n",
       "data:  df_clean$smoking_status and df_clean$stroke\n",
       "X-squared = 35.006, df = 3, p-value = 1.215e-07\n"
      ]
     },
     "metadata": {},
     "output_type": "display_data"
    },
    {
     "data": {
      "image/png": "[encoded data removed]",
      "text/plain": [
       "plot without title"
      ]
     },
     "metadata": {},
     "output_type": "display_data"
    }
   ],
   "source": [
    "# check Residence_type vs stroke\n",
    "ggplot(df_clean, aes(x=as.factor(smoking_status), fill=as.factor(stroke)))+\n",
    "  geom_bar(aes(y=..count../tapply(..count.., ..x.., sum)[..x..]), position = \"dodge\")+\n",
    "  geom_text(aes( y=..count../tapply(..count.., ..x.. ,sum)[..x..], label=scales::percent(..count../tapply(..count.., ..x.. ,sum)[..x..]) ), stat=\"count\", position=position_dodge(0.9), vjust=-0.5)+ylab('Percent of Hypertension Group, %') +\n",
    "  scale_y_continuous(labels = scales::percent)\n",
    "table(df_clean$Residence_type, df_clean$stroke)\n",
    "chisq.test(df_clean$smoking_status, df_clean$stroke)"
   ]
  },
  {
   "cell_type": "code",
   "execution_count": 14,
   "id": "fc8e5d99",
   "metadata": {},
   "outputs": [
    {
     "data": {
      "text/plain": [
       "\n",
       "Call:\n",
       "lm(formula = df_clean$stroke ~ df_clean$avg_glucose_level)\n",
       "\n",
       "Residuals:\n",
       "     Min       1Q   Median       3Q      Max \n",
       "-0.14522 -0.04649 -0.03284 -0.02319  0.98849 \n",
       "\n",
       "Coefficients:\n",
       "                             Estimate Std. Error t value Pr(>|t|)    \n",
       "(Intercept)                -2.394e-02  7.345e-03  -3.259  0.00112 ** \n",
       "df_clean$avg_glucose_level  6.318e-04  6.427e-05   9.830  < 2e-16 ***\n",
       "---\n",
       "Signif. codes:  0 '***' 0.001 '**' 0.01 '*' 0.05 '.' 0.1 ' ' 1\n",
       "\n",
       "Residual standard error: 0.2 on 4906 degrees of freedom\n",
       "Multiple R-squared:  0.01932,\tAdjusted R-squared:  0.01912 \n",
       "F-statistic: 96.63 on 1 and 4906 DF,  p-value: < 2.2e-16\n"
      ]
     },
     "metadata": {},
     "output_type": "display_data"
    },
    {
     "data": {
      "image/png": "[encoded data removed]",
      "text/plain": [
       "plot without title"
      ]
     },
     "metadata": {},
     "output_type": "display_data"
    }
   ],
   "source": [
    "#check avg_glucose_level vs stroke\n",
    "ggplot(df_clean, aes(x=as.factor(stroke), y=avg_glucose_level, fill=as.factor(stroke))) + \n",
    "  geom_boxplot() + \n",
    "  labs(subtitle=\"avg_glucose_level by group stroke\")\n",
    "lm.stroke_glucose <- lm(df_clean$stroke ~ df_clean$avg_glucose_level)\n",
    "summary(lm.stroke_glucose)"
   ]
  },
  {
   "cell_type": "markdown",
   "id": "43f84a12",
   "metadata": {},
   "source": [
    "Boxplot shows you 'avg_glucose_level' has correlation with 'stroke' and in lm() function summary shows reducing Std. Error from 7.372e-03 to 6.447e-05, Pr <2e-16 so that has correlation!\n",
    "\n"
   ]
  },
  {
   "cell_type": "code",
   "execution_count": 15,
   "id": "16c0fb59",
   "metadata": {},
   "outputs": [
    {
     "data": {
      "text/plain": [
       "\n",
       "Call:\n",
       "lm(formula = df_clean$stroke ~ df_clean$age)\n",
       "\n",
       "Residuals:\n",
       "     Min       1Q   Median       3Q      Max \n",
       "-0.12397 -0.07405 -0.03870  0.00290  1.01746 \n",
       "\n",
       "Coefficients:\n",
       "               Estimate Std. Error t value Pr(>|t|)    \n",
       "(Intercept)  -0.0465756  0.0060220  -7.734 1.25e-14 ***\n",
       "df_clean$age  0.0020798  0.0001243  16.730  < 2e-16 ***\n",
       "---\n",
       "Signif. codes:  0 '***' 0.001 '**' 0.01 '*' 0.05 '.' 0.1 ' ' 1\n",
       "\n",
       "Residual standard error: 0.1964 on 4906 degrees of freedom\n",
       "Multiple R-squared:  0.05397,\tAdjusted R-squared:  0.05378 \n",
       "F-statistic: 279.9 on 1 and 4906 DF,  p-value: < 2.2e-16\n"
      ]
     },
     "metadata": {},
     "output_type": "display_data"
    },
    {
     "data": {
      "image/png": "[encoded data removed]",
      "text/plain": [
       "plot without title"
      ]
     },
     "metadata": {},
     "output_type": "display_data"
    }
   ],
   "source": [
    "#check avg_glucose_level vs stroke\n",
    "ggplot(df_clean, aes(x=as.factor(stroke), y=age, fill=as.factor(stroke))) + \n",
    "  geom_boxplot() + \n",
    "  labs(subtitle=\"age by group stroke\")\n",
    "lm.stroke_age <- lm(df_clean$stroke ~ df_clean$age)\n",
    "summary(lm.stroke_age)"
   ]
  },
  {
   "cell_type": "markdown",
   "id": "03509c49",
   "metadata": {},
   "source": [
    "'age' has correlation with 'stroke'\n",
    "\n"
   ]
  },
  {
   "cell_type": "code",
   "execution_count": 16,
   "id": "b907c874",
   "metadata": {},
   "outputs": [
    {
     "data": {
      "text/plain": [
       "\n",
       "Call:\n",
       "lm(formula = df_clean$stroke ~ df_clean$bmi)\n",
       "\n",
       "Residuals:\n",
       "     Min       1Q   Median       3Q      Max \n",
       "-0.07409 -0.04750 -0.04109 -0.03506  0.97208 \n",
       "\n",
       "Coefficients:\n",
       "              Estimate Std. Error t value Pr(>|t|)    \n",
       "(Intercept)  2.262e-02  6.850e-03   3.303 0.000964 ***\n",
       "df_clean$bmi 1.231e-04  3.834e-05   3.211 0.001331 ** \n",
       "---\n",
       "Signif. codes:  0 '***' 0.001 '**' 0.01 '*' 0.05 '.' 0.1 ' ' 1\n",
       "\n",
       "Residual standard error: 0.2017 on 4906 degrees of freedom\n",
       "Multiple R-squared:  0.002097,\tAdjusted R-squared:  0.001894 \n",
       "F-statistic: 10.31 on 1 and 4906 DF,  p-value: 0.001331\n"
      ]
     },
     "metadata": {},
     "output_type": "display_data"
    },
    {
     "data": {
      "image/png": "[encoded data removed]",
      "text/plain": [
       "plot without title"
      ]
     },
     "metadata": {},
     "output_type": "display_data"
    }
   ],
   "source": [
    "#check avg_glucose_level vs stroke\n",
    "ggplot(df_clean, aes(x=as.factor(stroke), y=bmi, fill=as.factor(stroke))) + \n",
    "  geom_boxplot() + \n",
    "  labs(subtitle=\"bmi by group stroke\")\n",
    "lm.stroke_bmi <- lm(df_clean$stroke ~ df_clean$bmi)\n",
    "summary(lm.stroke_bmi)"
   ]
  },
  {
   "cell_type": "markdown",
   "id": "9bf43200",
   "metadata": {},
   "source": [
    "'bmi' has a little correlation with 'stroke'\n",
    "\n"
   ]
  },
  {
   "cell_type": "markdown",
   "id": "d2758052",
   "metadata": {},
   "source": [
    "# 4. Data Manipulation\n"
   ]
  },
  {
   "cell_type": "markdown",
   "id": "70d826c5",
   "metadata": {},
   "source": [
    "Data preprocessing\n",
    "\n",
    "Remove useless features in dataframe and shuffle index\n",
    "\n",
    "Create dataset for training and test"
   ]
  },
  {
   "cell_type": "code",
   "execution_count": 17,
   "id": "314be3af",
   "metadata": {},
   "outputs": [],
   "source": [
    "library(corrplot)"
   ]
  },
  {
   "cell_type": "code",
   "execution_count": 18,
   "id": "3ea19b52",
   "metadata": {},
   "outputs": [
    {
     "data": {
      "image/png": "[encoded data removed]",
      "text/plain": [
       "Plot with title \"\""
      ]
     },
     "metadata": {},
     "output_type": "display_data"
    }
   ],
   "source": [
    "#Data preprocessing\n",
    "df_num <- data.frame(df_clean)\n",
    "df_num$ever_married = str_replace_all(df_num$ever_married, c(\"Yes\"=\"1\", \"No\"=\"0\"))\n",
    "df_num$ever_married = as.numeric(df_num$ever_married)\n",
    "\n",
    "df_num$gender = str_replace_all(df_num$gender, c(\"Male\"=\"1\", \"Female\"=\"2\"))\n",
    "df_num$gender = as.numeric(df_num$gender)\n",
    "\n",
    "df_num$work_type = str_replace_all(df_num$work_type, c(\"Never_worked\"=\"0\",\"children\"=\"1\", \"Private\"=\"2\", \"Self-employed\"=\"3\", \"Govt_job\"=\"4\"))\n",
    "df_num$work_type = as.numeric(df_num$work_type)\n",
    "\n",
    "df_num$Residence_type = str_replace_all(df_num$Residence_type, c(\"Rural\"=\"1\", \"Urban\"=\"2\"))\n",
    "df_num$Residence_type = as.numeric(df_num$Residence_type)\n",
    "\n",
    "df_num$stroke = as.numeric(as.character(df_num$stroke))\n",
    "\n",
    "df_num$smoking_status = as.numeric(df_num$smoking_status)\n",
    "\n",
    "drop_smoke<-c(\"smoking_status\",\"id\")\n",
    "df_num <- df_num[,!(names(df_num) %in% drop_smoke)]\n",
    "\n",
    "\n",
    "res <- cor(df_num)\n",
    "corrplot(res, type = \"upper\", order = \"hclust\", \n",
    "         tl.col = \"black\", tl.srt = 45)"
   ]
  },
  {
   "cell_type": "code",
   "execution_count": 20,
   "id": "0cce69c9",
   "metadata": {},
   "outputs": [],
   "source": [
    "# create training or test for neural network without missing features\n",
    "\n",
    "# remove useless features\n",
    "drop <- c(\"id\",\"gender\", \"Residence_type\")\n",
    "df_num = df_num[,!(names(df_num) %in% drop)]\n",
    "\n",
    "# shuffle index\n",
    "set.seed(42)\n",
    "rows<-sample(nrow(df_num))\n",
    "df_shuffled<-df_num[rows,]\n",
    "\n",
    "# split Train data and test data\n",
    "train <- df_shuffled[1:4000,]\n",
    "test <- df_shuffled[4001:4908,]"
   ]
  },
  {
   "cell_type": "markdown",
   "id": "b1ffbb18",
   "metadata": {},
   "source": [
    "# 5. Modeling"
   ]
  },
  {
   "cell_type": "markdown",
   "id": "2d702046",
   "metadata": {},
   "source": [
    "Model : Logistic Regression"
   ]
  },
  {
   "cell_type": "code",
   "execution_count": 21,
   "id": "62a753b8",
   "metadata": {},
   "outputs": [
    {
     "data": {
      "text/plain": [
       "\n",
       "Call:\n",
       "glm(formula = stroke ~ ., family = binomial(link = \"logit\"), \n",
       "    data = train)\n",
       "\n",
       "Deviance Residuals: \n",
       "    Min       1Q   Median       3Q      Max  \n",
       "-1.2876  -0.2902  -0.1520  -0.0769   3.5555  \n",
       "\n",
       "Coefficients:\n",
       "                    Estimate Std. Error z value Pr(>|z|)    \n",
       "(Intercept)       -7.488e+00  5.739e-01 -13.049  < 2e-16 ***\n",
       "age                7.052e-02  6.425e-03  10.975  < 2e-16 ***\n",
       "hypertension       6.536e-01  1.855e-01   3.523 0.000427 ***\n",
       "heart_disease      4.487e-01  2.186e-01   2.053 0.040104 *  \n",
       "ever_married      -1.156e-01  2.630e-01  -0.439 0.660367    \n",
       "work_type         -1.539e-01  1.175e-01  -1.309 0.190474    \n",
       "avg_glucose_level  5.545e-03  1.423e-03   3.898 9.71e-05 ***\n",
       "bmi                7.927e-05  1.340e-03   0.059 0.952811    \n",
       "---\n",
       "Signif. codes:  0 '***' 0.001 '**' 0.01 '*' 0.05 '.' 0.1 ' ' 1\n",
       "\n",
       "(Dispersion parameter for binomial family taken to be 1)\n",
       "\n",
       "    Null deviance: 1443.6  on 3999  degrees of freedom\n",
       "Residual deviance: 1125.1  on 3992  degrees of freedom\n",
       "AIC: 1141.1\n",
       "\n",
       "Number of Fisher Scoring iterations: 8\n"
      ]
     },
     "metadata": {},
     "output_type": "display_data"
    },
    {
     "data": {
      "text/html": [
       "<table>\n",
       "<thead><tr><th></th><th scope=col>Df</th><th scope=col>Deviance</th><th scope=col>Resid. Df</th><th scope=col>Resid. Dev</th><th scope=col>Pr(&gt;Chi)</th></tr></thead>\n",
       "<tbody>\n",
       "\t<tr><th scope=row>NULL</th><td>NA          </td><td>          NA</td><td>3999        </td><td>1443.635    </td><td>          NA</td></tr>\n",
       "\t<tr><th scope=row>age</th><td> 1          </td><td>2.774976e+02</td><td>3998        </td><td>1166.137    </td><td>2.635862e-62</td></tr>\n",
       "\t<tr><th scope=row>hypertension</th><td> 1          </td><td>1.719972e+01</td><td>3997        </td><td>1148.938    </td><td>3.364858e-05</td></tr>\n",
       "\t<tr><th scope=row>heart_disease</th><td> 1          </td><td>6.177506e+00</td><td>3996        </td><td>1142.760    </td><td>1.293846e-02</td></tr>\n",
       "\t<tr><th scope=row>ever_married</th><td> 1          </td><td>7.883826e-02</td><td>3995        </td><td>1142.681    </td><td>7.788780e-01</td></tr>\n",
       "\t<tr><th scope=row>work_type</th><td> 1          </td><td>1.874575e+00</td><td>3994        </td><td>1140.807    </td><td>1.709520e-01</td></tr>\n",
       "\t<tr><th scope=row>avg_glucose_level</th><td> 1          </td><td>1.574383e+01</td><td>3993        </td><td>1125.063    </td><td>7.252409e-05</td></tr>\n",
       "\t<tr><th scope=row>bmi</th><td> 1          </td><td>3.498943e-03</td><td>3992        </td><td>1125.059    </td><td>9.528311e-01</td></tr>\n",
       "</tbody>\n",
       "</table>\n"
      ],
      "text/latex": [
       "\\begin{tabular}{r|lllll}\n",
       "  & Df & Deviance & Resid. Df & Resid. Dev & Pr(>Chi)\\\\\n",
       "\\hline\n",
       "\tNULL & NA           &           NA & 3999         & 1443.635     &           NA\\\\\n",
       "\tage &  1           & 2.774976e+02 & 3998         & 1166.137     & 2.635862e-62\\\\\n",
       "\thypertension &  1           & 1.719972e+01 & 3997         & 1148.938     & 3.364858e-05\\\\\n",
       "\theart\\_disease &  1           & 6.177506e+00 & 3996         & 1142.760     & 1.293846e-02\\\\\n",
       "\tever\\_married &  1           & 7.883826e-02 & 3995         & 1142.681     & 7.788780e-01\\\\\n",
       "\twork\\_type &  1           & 1.874575e+00 & 3994         & 1140.807     & 1.709520e-01\\\\\n",
       "\tavg\\_glucose\\_level &  1           & 1.574383e+01 & 3993         & 1125.063     & 7.252409e-05\\\\\n",
       "\tbmi &  1           & 3.498943e-03 & 3992         & 1125.059     & 9.528311e-01\\\\\n",
       "\\end{tabular}\n"
      ],
      "text/markdown": [
       "\n",
       "| <!--/--> | Df | Deviance | Resid. Df | Resid. Dev | Pr(>Chi) |\n",
       "|---|---|---|---|---|---|\n",
       "| NULL | NA           |           NA | 3999         | 1443.635     |           NA |\n",
       "| age |  1           | 2.774976e+02 | 3998         | 1166.137     | 2.635862e-62 |\n",
       "| hypertension |  1           | 1.719972e+01 | 3997         | 1148.938     | 3.364858e-05 |\n",
       "| heart_disease |  1           | 6.177506e+00 | 3996         | 1142.760     | 1.293846e-02 |\n",
       "| ever_married |  1           | 7.883826e-02 | 3995         | 1142.681     | 7.788780e-01 |\n",
       "| work_type |  1           | 1.874575e+00 | 3994         | 1140.807     | 1.709520e-01 |\n",
       "| avg_glucose_level |  1           | 1.574383e+01 | 3993         | 1125.063     | 7.252409e-05 |\n",
       "| bmi |  1           | 3.498943e-03 | 3992         | 1125.059     | 9.528311e-01 |\n",
       "\n"
      ],
      "text/plain": [
       "                  Df Deviance     Resid. Df Resid. Dev Pr(>Chi)    \n",
       "NULL              NA           NA 3999      1443.635             NA\n",
       "age                1 2.774976e+02 3998      1166.137   2.635862e-62\n",
       "hypertension       1 1.719972e+01 3997      1148.938   3.364858e-05\n",
       "heart_disease      1 6.177506e+00 3996      1142.760   1.293846e-02\n",
       "ever_married       1 7.883826e-02 3995      1142.681   7.788780e-01\n",
       "work_type          1 1.874575e+00 3994      1140.807   1.709520e-01\n",
       "avg_glucose_level  1 1.574383e+01 3993      1125.063   7.252409e-05\n",
       "bmi                1 3.498943e-03 3992      1125.059   9.528311e-01"
      ]
     },
     "metadata": {},
     "output_type": "display_data"
    },
    {
     "name": "stdout",
     "output_type": "stream",
     "text": [
      "[1] \"Accuracy 0.964757709251101\"\n"
     ]
    }
   ],
   "source": [
    "# apply model\n",
    "model <- glm(stroke ~., family=binomial(link='logit'), data=train)\n",
    "summary(model)\n",
    "anova(model, test=\"Chisq\")\n",
    "\n",
    "# accuracy\n",
    "fitted.results <- predict(model,newdata=subset(test,select=c(1,2,3,4,5,6,7)),type='response')\n",
    "fitted.results <- ifelse(fitted.results > 0.5,1,0)\n",
    "misClasificError <- mean(fitted.results != test$stroke)\n",
    "print(paste('Accuracy',1-misClasificError))"
   ]
  },
  {
   "cell_type": "markdown",
   "id": "88ee4c5c",
   "metadata": {},
   "source": [
    "## Accuracy: 96.475%"
   ]
  },
  {
   "cell_type": "markdown",
   "id": "df11e983",
   "metadata": {},
   "source": [
    "# RESULTS:"
   ]
  },
  {
   "cell_type": "markdown",
   "id": "d3361db1",
   "metadata": {},
   "source": [
    "### Target variable : Stroke\n",
    "\n"
   ]
  },
  {
   "cell_type": "markdown",
   "id": "1f390140",
   "metadata": {},
   "source": [
    "### Categorical variables :stroke, gender, hypertension, heart_disease, ever_married, work_type, Residence_type, smoking_status\n"
   ]
  },
  {
   "cell_type": "markdown",
   "id": "768bcedb",
   "metadata": {},
   "source": [
    "### Continuous variables :age, avg_glucose_level, bmi"
   ]
  },
  {
   "cell_type": "markdown",
   "id": "66892f68",
   "metadata": {},
   "source": [
    "## interpreting Results"
   ]
  },
  {
   "cell_type": "code",
   "execution_count": null,
   "id": "63bee347",
   "metadata": {},
   "outputs": [],
   "source": [
    "96.475% of a patient is likely to get stroke  based on the categorical variables on the datasset"
   ]
  },
  {
   "cell_type": "markdown",
   "id": "72ea0fca",
   "metadata": {},
   "source": [
    "# Thank you"
   ]
  },
  {
   "cell_type": "code",
   "execution_count": null,
   "id": "3634fff3",
   "metadata": {},
   "outputs": [],
   "source": []
  }
 ],
 "metadata": {
  "kernelspec": {
   "display_name": "R",
   "language": "R",
   "name": "ir"
  },
  "language_info": {
   "codemirror_mode": "r",
   "file_extension": ".r",
   "mimetype": "text/x-r-source",
   "name": "R",
   "pygments_lexer": "r",
   "version": "3.6.1"
  }
 },
 "nbformat": 4,
 "nbformat_minor": 5
}
